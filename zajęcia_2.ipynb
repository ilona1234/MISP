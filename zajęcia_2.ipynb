{
  "nbformat": 4,
  "nbformat_minor": 0,
  "metadata": {
    "kernelspec": {
      "display_name": "Python 3",
      "language": "python",
      "name": "python3"
    },
    "language_info": {
      "codemirror_mode": {
        "name": "ipython",
        "version": 3
      },
      "file_extension": ".py",
      "mimetype": "text/x-python",
      "name": "python",
      "nbconvert_exporter": "python",
      "pygments_lexer": "ipython3",
      "version": "3.7.3"
    },
    "colab": {
      "name": "cd_podstaw_pythona.ipynb",
      "provenance": [],
      "collapsed_sections": [],
      "include_colab_link": true
    }
  },
  "cells": [
    {
      "cell_type": "markdown",
      "metadata": {
        "id": "view-in-github",
        "colab_type": "text"
      },
      "source": [
        "<a href=\"https://colab.research.google.com/github/ilona1234/MISP/blob/main/zaj%C4%99cia_2.ipynb\" target=\"_parent\"><img src=\"https://colab.research.google.com/assets/colab-badge.svg\" alt=\"Open In Colab\"/></a>"
      ]
    },
    {
      "cell_type": "markdown",
      "metadata": {
        "id": "ks1Q0FQjN25s"
      },
      "source": [
        "**Ciąg dalszy podstaw Pythona  - zajęcia 2**"
      ]
    },
    {
      "cell_type": "markdown",
      "metadata": {
        "id": "1osCaxoZCKod"
      },
      "source": [
        "**Zad. 1 - Książka telefoniczna**\n",
        "\n",
        "Stworz typ NumerTelefonu\n",
        "\n",
        " -- przy tworzeniu sprawdza czy właściwy numer (Polski) jeśli nie pisze, że error (ew. Exception)\n",
        " \n",
        " -- gdy printuję to mi pisze polskimi słowami i.e. \"jeden, pięć, siedem, zero\"\n",
        " \n",
        " -- gdy wywołuję właściwość wojewodztwo, podaje mi wojewodztwo ew. ze to komórkowy\n",
        "\n",
        " W tym celu utworzono klase NumerTelefonu. Posiada ona tablice początkowych liczb numerów stacjonarnych oraz komórkowych. Przy inicjalizacji obiektu numeru telefonu jest sprawdzana liczba cyfr w numerze (każdy numer musi posiadać 9 cyfr). Jeśli ta liczba się zgadza, to w pętli sprawdzane są pierwsze 2 elementy numeru, czy pokrywają się z elementami tablicy prefiksów. Nastepnie jest wyświetlana informacja o prawidłowości numeru. Klasa zawiera także właściwość województwo, która na podstawie słownika prefixów numerów stacjonarnych wyswietla, z którego województwa pochodzi numer, ewentualnie podaje informację, że numer jest komórkowy. Metoda _repr_ powoduje, że na podstawie słownika zawierającego słowne określenie liczb jest wyświelany słownie numer telefonu przy wyswietlaniu obiektu.\n",
        " \n",
        " "
      ]
    },
    {
      "cell_type": "code",
      "metadata": {
        "id": "xkUCxOhxCKod",
        "colab": {
          "base_uri": "https://localhost:8080/"
        },
        "outputId": "99b9e6a1-346c-41b0-c1cf-2edd97b94c2a"
      },
      "source": [
        "class NumerTelefonu():\n",
        "  prefix_numerow_ruchomych=[50, 51, 53, 57, 60, 66, 69, 72, 73, 78, 79, 88]\n",
        "  prefix_numerow_stacjonarnych=[12, 13, 14, 15, 16, 17, 18, 22, 23, 24, 25, 29, 32, 33, 34, 41, 42, 43, 44, 46, 48, 52, 54, 55, 56, 58, 59, 61, 62, 63, 65, 67, 68,\n",
        "   71, 74, 75, 76, 77, 81, 82, 83, 84, 85, 86, 87, 89, 91, 94, 95]\n",
        "  flaga = 0\n",
        "  \n",
        "\n",
        "  def __init__(self, numer_telefonu):\n",
        "    self.numer_telefonu = numer_telefonu\n",
        "    if len(numer_telefonu) == 9:\n",
        "      for prefix in NumerTelefonu.prefix_numerow_stacjonarnych  + NumerTelefonu.prefix_numerow_ruchomych:\n",
        "        if numer_telefonu[0:2] == str(prefix): # sprawdza 2 pierwsze początkowe cyfry numeru, czy pokrywa się z którymś z elementów tablic\n",
        "          print(\"prawidłowy numer\")\n",
        "          NumerTelefonu.flaga = 1\n",
        "          break\n",
        "      if NumerTelefonu.flaga == 0:\n",
        "        print(\"błędny numer\")\n",
        "    else:\n",
        "        print(\"błędny numer\")\n",
        "\n",
        "  @property\n",
        "  def wojewodztwo(self):\n",
        "    flaga_czy_stacjonarny = 0\n",
        "    prefix_wojewodztw = {12: \"małopolskie\", 13: \"podkarpackie\", 14: \"małopolskie\", 15: \"podkarpackie\", 16: \"podkarpackie\", 17: \"podkarpackie\", 18: \"małopolskie\", 22: \"mazowieckie\", 23: \"mazowieckie\", \n",
        "                         24: \"mazowieckie\", 25: \"mazowieckie\", 29: \"mazowieckie\", 32: \"śląskie\", 33: \"śląskie\", 34: \"śląskie\", 41: \"świętokrzyskie\", 42: \"łódzkie\", 43: \"łódzkie\", 44: \"łódzkie\", 46: \"łódzkie\",\n",
        "                         48: \"mazowieckie\", 52: \"kujawsko-pomorskie\", 54: \"kujawsko-pomorskie\", 55: \"warmińsko-mazurskie\", 56: \"kujawsko-pomorskie\", 58: \"pomorskie\", 59: \"pomorskie\", 61: \"wielkopolskie\",\n",
        "                         62: \"wielkopolskie\", 63: \"wielkopolskie\", 65: \"wielkopolskie\", 67: \"wielkopolskie\", 68: \"lubuskie\", 71: \"dolnośląskie\", 74: \"dolnośląskie\", 75: \"dolnośląskie\", 76: \"dolnosląskie\", 77: \"opolskie\", \n",
        "                         81: \"lubelskie\", 82: \"lubelskie\", 83: \"lubelskie\", 84: \"lubelskie\", 85: \"podlaskie\", 86: \"podlaskie\", 87: \"podlaskie\", 89: \"warmińsko-mazurskie\", 91: \"zachodniopomorskie\", 94: \"zachodniopomorskie\", 95: \"lubuskie\"}\n",
        "    for prefix in prefix_wojewodztw.items():\n",
        "      if self.numer_telefonu[0:2] == str(prefix[0]):\n",
        "        print(prefix[1])\n",
        "        flaga_czy_stacjonarny = 1\n",
        "        break\n",
        "    if flaga_czy_stacjonarny == 0:\n",
        "      print(\"numer komórkowy\")\n",
        "\n",
        "  def __repr__(self):\n",
        "    liczba = \"\"\n",
        "    liczby = {0: \"zero\", 1: \"jeden\", 2: \"dwa\", 3: \"trzy\", 4: \"cztery\", 5: \"pięć\", 6: \"sześć\", 7: \"siedem\", 8: \"osiem\", 9: \"dziewięć\"}\n",
        "    for cyfra in self.numer_telefonu:\n",
        "      liczba += liczby[int(cyfra)] + \" \"\n",
        "    return liczba\n",
        "      \n",
        "numer_lodz = NumerTelefonu(\"426877868\")\n",
        "\n",
        "numer_lodz.wojewodztwo\n",
        "\n",
        "print(numer_lodz)\n",
        "\n"
      ],
      "execution_count": 6,
      "outputs": [
        {
          "output_type": "stream",
          "text": [
            "prawidłowy numer\n",
            "łódzkie\n",
            "cztery dwa sześć osiem siedem siedem osiem sześć osiem \n"
          ],
          "name": "stdout"
        }
      ]
    }
  ]
}