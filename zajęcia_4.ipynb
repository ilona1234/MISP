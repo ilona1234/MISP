{
  "nbformat": 4,
  "nbformat_minor": 0,
  "metadata": {
    "colab": {
      "name": "challenge1.ipynb",
      "provenance": [],
      "collapsed_sections": [],
      "authorship_tag": "ABX9TyMOnFntHgAxYiiGJXQjvklS",
      "include_colab_link": true
    },
    "kernelspec": {
      "name": "python3",
      "display_name": "Python 3"
    },
    "widgets": {
      "application/vnd.jupyter.widget-state+json": {
        "be7d96461de84fbbb549d176d41df7f2": {
          "model_module": "@jupyter-widgets/controls",
          "model_name": "VBoxModel",
          "state": {
            "_view_name": "VBoxView",
            "_dom_classes": [
              "widget-interact"
            ],
            "_model_name": "VBoxModel",
            "_view_module": "@jupyter-widgets/controls",
            "_model_module_version": "1.5.0",
            "_view_count": null,
            "_view_module_version": "1.5.0",
            "box_style": "",
            "layout": "IPY_MODEL_b58e9a2c6f6b4235b31fed8bb724e380",
            "_model_module": "@jupyter-widgets/controls",
            "children": [
              "IPY_MODEL_7b94369925424bec8ef71c90d9ada47e",
              "IPY_MODEL_2d349754b76d4e06b82ab90361a08e0e",
              "IPY_MODEL_c67b3e97082d4d3691d911ce02470d72",
              "IPY_MODEL_1d34fc3bbe00490fa31f345dbcda1944",
              "IPY_MODEL_0a842f130f6e4f53b9290d98e41b02c1",
              "IPY_MODEL_ce2cffb0aebb4a399bda44cb6883e033",
              "IPY_MODEL_9a0c2de7e4b2432289d146608c20c4d9"
            ]
          }
        },
        "b58e9a2c6f6b4235b31fed8bb724e380": {
          "model_module": "@jupyter-widgets/base",
          "model_name": "LayoutModel",
          "state": {
            "_view_name": "LayoutView",
            "grid_template_rows": null,
            "right": null,
            "justify_content": null,
            "_view_module": "@jupyter-widgets/base",
            "overflow": null,
            "_model_module_version": "1.2.0",
            "_view_count": null,
            "flex_flow": null,
            "width": null,
            "min_width": null,
            "border": null,
            "align_items": null,
            "bottom": null,
            "_model_module": "@jupyter-widgets/base",
            "top": null,
            "grid_column": null,
            "overflow_y": null,
            "overflow_x": null,
            "grid_auto_flow": null,
            "grid_area": null,
            "grid_template_columns": null,
            "flex": null,
            "_model_name": "LayoutModel",
            "justify_items": null,
            "grid_row": null,
            "max_height": null,
            "align_content": null,
            "visibility": null,
            "align_self": null,
            "height": null,
            "min_height": null,
            "padding": null,
            "grid_auto_rows": null,
            "grid_gap": null,
            "max_width": null,
            "order": null,
            "_view_module_version": "1.2.0",
            "grid_template_areas": null,
            "object_position": null,
            "object_fit": null,
            "grid_auto_columns": null,
            "margin": null,
            "display": null,
            "left": null
          }
        },
        "7b94369925424bec8ef71c90d9ada47e": {
          "model_module": "@jupyter-widgets/controls",
          "model_name": "IntSliderModel",
          "state": {
            "_view_name": "IntSliderView",
            "style": "IPY_MODEL_1188c8cb11c142259f05a51b787adaa6",
            "_dom_classes": [],
            "description": "czas produkcji aluminiowych f1",
            "step": 1,
            "_model_name": "IntSliderModel",
            "orientation": "horizontal",
            "max": 15,
            "_view_module": "@jupyter-widgets/controls",
            "_model_module_version": "1.5.0",
            "value": 1,
            "_view_count": null,
            "disabled": false,
            "_view_module_version": "1.5.0",
            "min": 0,
            "continuous_update": true,
            "readout_format": "d",
            "description_tooltip": null,
            "readout": true,
            "_model_module": "@jupyter-widgets/controls",
            "layout": "IPY_MODEL_d0e30191d76046c08b3a2435af31f1f6"
          }
        },
        "2d349754b76d4e06b82ab90361a08e0e": {
          "model_module": "@jupyter-widgets/controls",
          "model_name": "IntSliderModel",
          "state": {
            "_view_name": "IntSliderView",
            "style": "IPY_MODEL_c3802f47c1c948299bf85e1d0d705631",
            "_dom_classes": [],
            "description": "czas produkcji drewnianych f2",
            "step": 1,
            "_model_name": "IntSliderModel",
            "orientation": "horizontal",
            "max": 15,
            "_view_module": "@jupyter-widgets/controls",
            "_model_module_version": "1.5.0",
            "value": 2,
            "_view_count": null,
            "disabled": false,
            "_view_module_version": "1.5.0",
            "min": 0,
            "continuous_update": true,
            "readout_format": "d",
            "description_tooltip": null,
            "readout": true,
            "_model_module": "@jupyter-widgets/controls",
            "layout": "IPY_MODEL_e0ef6cc6bd8c4295b1bd8ab28c8bbba3"
          }
        },
        "c67b3e97082d4d3691d911ce02470d72": {
          "model_module": "@jupyter-widgets/controls",
          "model_name": "IntSliderModel",
          "state": {
            "_view_name": "IntSliderView",
            "style": "IPY_MODEL_75555ae5ca5b4cca9cbd591b12383cb2",
            "_dom_classes": [],
            "description": "czas produkcji aluminiowych f3",
            "step": 1,
            "_model_name": "IntSliderModel",
            "orientation": "horizontal",
            "max": 15,
            "_view_module": "@jupyter-widgets/controls",
            "_model_module_version": "1.5.0",
            "value": 3,
            "_view_count": null,
            "disabled": false,
            "_view_module_version": "1.5.0",
            "min": 0,
            "continuous_update": true,
            "readout_format": "d",
            "description_tooltip": null,
            "readout": true,
            "_model_module": "@jupyter-widgets/controls",
            "layout": "IPY_MODEL_3306194cefc348dd9939a92ff6f04de5"
          }
        },
        "1d34fc3bbe00490fa31f345dbcda1944": {
          "model_module": "@jupyter-widgets/controls",
          "model_name": "IntSliderModel",
          "state": {
            "_view_name": "IntSliderView",
            "style": "IPY_MODEL_7c83d1367d53414996c7b4a202525373",
            "_dom_classes": [],
            "description": "czas produkcji drewnianych f3",
            "step": 1,
            "_model_name": "IntSliderModel",
            "orientation": "horizontal",
            "max": 15,
            "_view_module": "@jupyter-widgets/controls",
            "_model_module_version": "1.5.0",
            "value": 2,
            "_view_count": null,
            "disabled": false,
            "_view_module_version": "1.5.0",
            "min": 0,
            "continuous_update": true,
            "readout_format": "d",
            "description_tooltip": null,
            "readout": true,
            "_model_module": "@jupyter-widgets/controls",
            "layout": "IPY_MODEL_76988c411db84fc49179e45291c3f7f2"
          }
        },
        "0a842f130f6e4f53b9290d98e41b02c1": {
          "model_module": "@jupyter-widgets/controls",
          "model_name": "IntSliderModel",
          "state": {
            "_view_name": "IntSliderView",
            "style": "IPY_MODEL_af09246496a94c08be62ccd0cdf51f84",
            "_dom_classes": [],
            "description": "zysk_partii_aluminiowych",
            "step": 1,
            "_model_name": "IntSliderModel",
            "orientation": "horizontal",
            "max": 5000,
            "_view_module": "@jupyter-widgets/controls",
            "_model_module_version": "1.5.0",
            "value": 3000,
            "_view_count": null,
            "disabled": false,
            "_view_module_version": "1.5.0",
            "min": 0,
            "continuous_update": true,
            "readout_format": "d",
            "description_tooltip": null,
            "readout": true,
            "_model_module": "@jupyter-widgets/controls",
            "layout": "IPY_MODEL_76a3a841914841228b43dec84a794f40"
          }
        },
        "ce2cffb0aebb4a399bda44cb6883e033": {
          "model_module": "@jupyter-widgets/controls",
          "model_name": "IntSliderModel",
          "state": {
            "_view_name": "IntSliderView",
            "style": "IPY_MODEL_c2a0be489bb24d76b5bea45d7b7df724",
            "_dom_classes": [],
            "description": "zysk_partii_drewnianych",
            "step": 1,
            "_model_name": "IntSliderModel",
            "orientation": "horizontal",
            "max": 5000,
            "_view_module": "@jupyter-widgets/controls",
            "_model_module_version": "1.5.0",
            "value": 5000,
            "_view_count": null,
            "disabled": false,
            "_view_module_version": "1.5.0",
            "min": 0,
            "continuous_update": true,
            "readout_format": "d",
            "description_tooltip": null,
            "readout": true,
            "_model_module": "@jupyter-widgets/controls",
            "layout": "IPY_MODEL_a926d859c5024278a873d64970245e3c"
          }
        },
        "9a0c2de7e4b2432289d146608c20c4d9": {
          "model_module": "@jupyter-widgets/output",
          "model_name": "OutputModel",
          "state": {
            "_view_name": "OutputView",
            "msg_id": "",
            "_dom_classes": [],
            "_model_name": "OutputModel",
            "outputs": [
              {
                "output_type": "stream",
                "metadata": {
                  "tags": []
                },
                "text": "Ile_partii_aluminiowych = 2.0\nIle_partii_drewnianych = 6.0\nMaksymalny zysk to:  36000.0 zł\n**********Shadow Prices**********\n                             name  shadow price  slack\n0  Ograniczenia_pierwszej_fabryki          -0.0    2.0\n1    Ograniczenia_drugiej_fabryki        1500.0   -0.0\n2   Ograniczenia_trzeciej_fabryki        1000.0   -0.0\n",
                "stream": "stdout"
              }
            ],
            "_view_module": "@jupyter-widgets/output",
            "_model_module_version": "1.0.0",
            "_view_count": null,
            "_view_module_version": "1.0.0",
            "layout": "IPY_MODEL_9191d7e47f12405c88adf5846d31f522",
            "_model_module": "@jupyter-widgets/output"
          }
        },
        "1188c8cb11c142259f05a51b787adaa6": {
          "model_module": "@jupyter-widgets/controls",
          "model_name": "SliderStyleModel",
          "state": {
            "_view_name": "StyleView",
            "handle_color": null,
            "_model_name": "SliderStyleModel",
            "description_width": "initial",
            "_view_module": "@jupyter-widgets/base",
            "_model_module_version": "1.5.0",
            "_view_count": null,
            "_view_module_version": "1.2.0",
            "_model_module": "@jupyter-widgets/controls"
          }
        },
        "d0e30191d76046c08b3a2435af31f1f6": {
          "model_module": "@jupyter-widgets/base",
          "model_name": "LayoutModel",
          "state": {
            "_view_name": "LayoutView",
            "grid_template_rows": null,
            "right": null,
            "justify_content": null,
            "_view_module": "@jupyter-widgets/base",
            "overflow": null,
            "_model_module_version": "1.2.0",
            "_view_count": null,
            "flex_flow": null,
            "width": null,
            "min_width": null,
            "border": null,
            "align_items": null,
            "bottom": null,
            "_model_module": "@jupyter-widgets/base",
            "top": null,
            "grid_column": null,
            "overflow_y": null,
            "overflow_x": null,
            "grid_auto_flow": null,
            "grid_area": null,
            "grid_template_columns": null,
            "flex": null,
            "_model_name": "LayoutModel",
            "justify_items": null,
            "grid_row": null,
            "max_height": null,
            "align_content": null,
            "visibility": null,
            "align_self": null,
            "height": null,
            "min_height": null,
            "padding": null,
            "grid_auto_rows": null,
            "grid_gap": null,
            "max_width": null,
            "order": null,
            "_view_module_version": "1.2.0",
            "grid_template_areas": null,
            "object_position": null,
            "object_fit": null,
            "grid_auto_columns": null,
            "margin": null,
            "display": null,
            "left": null
          }
        },
        "c3802f47c1c948299bf85e1d0d705631": {
          "model_module": "@jupyter-widgets/controls",
          "model_name": "SliderStyleModel",
          "state": {
            "_view_name": "StyleView",
            "handle_color": null,
            "_model_name": "SliderStyleModel",
            "description_width": "initial",
            "_view_module": "@jupyter-widgets/base",
            "_model_module_version": "1.5.0",
            "_view_count": null,
            "_view_module_version": "1.2.0",
            "_model_module": "@jupyter-widgets/controls"
          }
        },
        "e0ef6cc6bd8c4295b1bd8ab28c8bbba3": {
          "model_module": "@jupyter-widgets/base",
          "model_name": "LayoutModel",
          "state": {
            "_view_name": "LayoutView",
            "grid_template_rows": null,
            "right": null,
            "justify_content": null,
            "_view_module": "@jupyter-widgets/base",
            "overflow": null,
            "_model_module_version": "1.2.0",
            "_view_count": null,
            "flex_flow": null,
            "width": null,
            "min_width": null,
            "border": null,
            "align_items": null,
            "bottom": null,
            "_model_module": "@jupyter-widgets/base",
            "top": null,
            "grid_column": null,
            "overflow_y": null,
            "overflow_x": null,
            "grid_auto_flow": null,
            "grid_area": null,
            "grid_template_columns": null,
            "flex": null,
            "_model_name": "LayoutModel",
            "justify_items": null,
            "grid_row": null,
            "max_height": null,
            "align_content": null,
            "visibility": null,
            "align_self": null,
            "height": null,
            "min_height": null,
            "padding": null,
            "grid_auto_rows": null,
            "grid_gap": null,
            "max_width": null,
            "order": null,
            "_view_module_version": "1.2.0",
            "grid_template_areas": null,
            "object_position": null,
            "object_fit": null,
            "grid_auto_columns": null,
            "margin": null,
            "display": null,
            "left": null
          }
        },
        "75555ae5ca5b4cca9cbd591b12383cb2": {
          "model_module": "@jupyter-widgets/controls",
          "model_name": "SliderStyleModel",
          "state": {
            "_view_name": "StyleView",
            "handle_color": null,
            "_model_name": "SliderStyleModel",
            "description_width": "initial",
            "_view_module": "@jupyter-widgets/base",
            "_model_module_version": "1.5.0",
            "_view_count": null,
            "_view_module_version": "1.2.0",
            "_model_module": "@jupyter-widgets/controls"
          }
        },
        "3306194cefc348dd9939a92ff6f04de5": {
          "model_module": "@jupyter-widgets/base",
          "model_name": "LayoutModel",
          "state": {
            "_view_name": "LayoutView",
            "grid_template_rows": null,
            "right": null,
            "justify_content": null,
            "_view_module": "@jupyter-widgets/base",
            "overflow": null,
            "_model_module_version": "1.2.0",
            "_view_count": null,
            "flex_flow": null,
            "width": null,
            "min_width": null,
            "border": null,
            "align_items": null,
            "bottom": null,
            "_model_module": "@jupyter-widgets/base",
            "top": null,
            "grid_column": null,
            "overflow_y": null,
            "overflow_x": null,
            "grid_auto_flow": null,
            "grid_area": null,
            "grid_template_columns": null,
            "flex": null,
            "_model_name": "LayoutModel",
            "justify_items": null,
            "grid_row": null,
            "max_height": null,
            "align_content": null,
            "visibility": null,
            "align_self": null,
            "height": null,
            "min_height": null,
            "padding": null,
            "grid_auto_rows": null,
            "grid_gap": null,
            "max_width": null,
            "order": null,
            "_view_module_version": "1.2.0",
            "grid_template_areas": null,
            "object_position": null,
            "object_fit": null,
            "grid_auto_columns": null,
            "margin": null,
            "display": null,
            "left": null
          }
        },
        "7c83d1367d53414996c7b4a202525373": {
          "model_module": "@jupyter-widgets/controls",
          "model_name": "SliderStyleModel",
          "state": {
            "_view_name": "StyleView",
            "handle_color": null,
            "_model_name": "SliderStyleModel",
            "description_width": "initial",
            "_view_module": "@jupyter-widgets/base",
            "_model_module_version": "1.5.0",
            "_view_count": null,
            "_view_module_version": "1.2.0",
            "_model_module": "@jupyter-widgets/controls"
          }
        },
        "76988c411db84fc49179e45291c3f7f2": {
          "model_module": "@jupyter-widgets/base",
          "model_name": "LayoutModel",
          "state": {
            "_view_name": "LayoutView",
            "grid_template_rows": null,
            "right": null,
            "justify_content": null,
            "_view_module": "@jupyter-widgets/base",
            "overflow": null,
            "_model_module_version": "1.2.0",
            "_view_count": null,
            "flex_flow": null,
            "width": null,
            "min_width": null,
            "border": null,
            "align_items": null,
            "bottom": null,
            "_model_module": "@jupyter-widgets/base",
            "top": null,
            "grid_column": null,
            "overflow_y": null,
            "overflow_x": null,
            "grid_auto_flow": null,
            "grid_area": null,
            "grid_template_columns": null,
            "flex": null,
            "_model_name": "LayoutModel",
            "justify_items": null,
            "grid_row": null,
            "max_height": null,
            "align_content": null,
            "visibility": null,
            "align_self": null,
            "height": null,
            "min_height": null,
            "padding": null,
            "grid_auto_rows": null,
            "grid_gap": null,
            "max_width": null,
            "order": null,
            "_view_module_version": "1.2.0",
            "grid_template_areas": null,
            "object_position": null,
            "object_fit": null,
            "grid_auto_columns": null,
            "margin": null,
            "display": null,
            "left": null
          }
        },
        "af09246496a94c08be62ccd0cdf51f84": {
          "model_module": "@jupyter-widgets/controls",
          "model_name": "SliderStyleModel",
          "state": {
            "_view_name": "StyleView",
            "handle_color": null,
            "_model_name": "SliderStyleModel",
            "description_width": "initial",
            "_view_module": "@jupyter-widgets/base",
            "_model_module_version": "1.5.0",
            "_view_count": null,
            "_view_module_version": "1.2.0",
            "_model_module": "@jupyter-widgets/controls"
          }
        },
        "76a3a841914841228b43dec84a794f40": {
          "model_module": "@jupyter-widgets/base",
          "model_name": "LayoutModel",
          "state": {
            "_view_name": "LayoutView",
            "grid_template_rows": null,
            "right": null,
            "justify_content": null,
            "_view_module": "@jupyter-widgets/base",
            "overflow": null,
            "_model_module_version": "1.2.0",
            "_view_count": null,
            "flex_flow": null,
            "width": null,
            "min_width": null,
            "border": null,
            "align_items": null,
            "bottom": null,
            "_model_module": "@jupyter-widgets/base",
            "top": null,
            "grid_column": null,
            "overflow_y": null,
            "overflow_x": null,
            "grid_auto_flow": null,
            "grid_area": null,
            "grid_template_columns": null,
            "flex": null,
            "_model_name": "LayoutModel",
            "justify_items": null,
            "grid_row": null,
            "max_height": null,
            "align_content": null,
            "visibility": null,
            "align_self": null,
            "height": null,
            "min_height": null,
            "padding": null,
            "grid_auto_rows": null,
            "grid_gap": null,
            "max_width": null,
            "order": null,
            "_view_module_version": "1.2.0",
            "grid_template_areas": null,
            "object_position": null,
            "object_fit": null,
            "grid_auto_columns": null,
            "margin": null,
            "display": null,
            "left": null
          }
        },
        "c2a0be489bb24d76b5bea45d7b7df724": {
          "model_module": "@jupyter-widgets/controls",
          "model_name": "SliderStyleModel",
          "state": {
            "_view_name": "StyleView",
            "handle_color": null,
            "_model_name": "SliderStyleModel",
            "description_width": "initial",
            "_view_module": "@jupyter-widgets/base",
            "_model_module_version": "1.5.0",
            "_view_count": null,
            "_view_module_version": "1.2.0",
            "_model_module": "@jupyter-widgets/controls"
          }
        },
        "a926d859c5024278a873d64970245e3c": {
          "model_module": "@jupyter-widgets/base",
          "model_name": "LayoutModel",
          "state": {
            "_view_name": "LayoutView",
            "grid_template_rows": null,
            "right": null,
            "justify_content": null,
            "_view_module": "@jupyter-widgets/base",
            "overflow": null,
            "_model_module_version": "1.2.0",
            "_view_count": null,
            "flex_flow": null,
            "width": null,
            "min_width": null,
            "border": null,
            "align_items": null,
            "bottom": null,
            "_model_module": "@jupyter-widgets/base",
            "top": null,
            "grid_column": null,
            "overflow_y": null,
            "overflow_x": null,
            "grid_auto_flow": null,
            "grid_area": null,
            "grid_template_columns": null,
            "flex": null,
            "_model_name": "LayoutModel",
            "justify_items": null,
            "grid_row": null,
            "max_height": null,
            "align_content": null,
            "visibility": null,
            "align_self": null,
            "height": null,
            "min_height": null,
            "padding": null,
            "grid_auto_rows": null,
            "grid_gap": null,
            "max_width": null,
            "order": null,
            "_view_module_version": "1.2.0",
            "grid_template_areas": null,
            "object_position": null,
            "object_fit": null,
            "grid_auto_columns": null,
            "margin": null,
            "display": null,
            "left": null
          }
        },
        "9191d7e47f12405c88adf5846d31f522": {
          "model_module": "@jupyter-widgets/base",
          "model_name": "LayoutModel",
          "state": {
            "_view_name": "LayoutView",
            "grid_template_rows": null,
            "right": null,
            "justify_content": null,
            "_view_module": "@jupyter-widgets/base",
            "overflow": null,
            "_model_module_version": "1.2.0",
            "_view_count": null,
            "flex_flow": null,
            "width": null,
            "min_width": null,
            "border": null,
            "align_items": null,
            "bottom": null,
            "_model_module": "@jupyter-widgets/base",
            "top": null,
            "grid_column": null,
            "overflow_y": null,
            "overflow_x": null,
            "grid_auto_flow": null,
            "grid_area": null,
            "grid_template_columns": null,
            "flex": null,
            "_model_name": "LayoutModel",
            "justify_items": null,
            "grid_row": null,
            "max_height": null,
            "align_content": null,
            "visibility": null,
            "align_self": null,
            "height": null,
            "min_height": null,
            "padding": null,
            "grid_auto_rows": null,
            "grid_gap": null,
            "max_width": null,
            "order": null,
            "_view_module_version": "1.2.0",
            "grid_template_areas": null,
            "object_position": null,
            "object_fit": null,
            "grid_auto_columns": null,
            "margin": null,
            "display": null,
            "left": null
          }
        }
      }
    }
  },
  "cells": [
    {
      "cell_type": "markdown",
      "metadata": {
        "id": "view-in-github",
        "colab_type": "text"
      },
      "source": [
        "<a href=\"https://colab.research.google.com/github/ilona1234/MISP/blob/main/zaj%C4%99cia_4.ipynb\" target=\"_parent\"><img src=\"https://colab.research.google.com/assets/colab-badge.svg\" alt=\"Open In Colab\"/></a>"
      ]
    },
    {
      "cell_type": "markdown",
      "metadata": {
        "id": "8UQuN-6dO3Gs"
      },
      "source": [
        "**Optymalizacja produkcji okien - zajęcia 4**"
      ]
    },
    {
      "cell_type": "markdown",
      "metadata": {
        "id": "8cGmBk1dO-nK"
      },
      "source": [
        "Instalacja bibioteki pulp"
      ]
    },
    {
      "cell_type": "code",
      "metadata": {
        "id": "9s3A3M9fC9Mu",
        "colab": {
          "base_uri": "https://localhost:8080/"
        },
        "outputId": "1fe05436-624e-46c1-c033-014d20e87c05"
      },
      "source": [
        "!pip install pulp\n",
        "\n",
        "!sudo apt-get install coinor-cbc glpk-utils coinor-clp"
      ],
      "execution_count": 1,
      "outputs": [
        {
          "output_type": "stream",
          "text": [
            "Collecting pulp\n",
            "\u001b[?25l  Downloading https://files.pythonhosted.org/packages/14/c4/0eec14a0123209c261de6ff154ef3be5cad3fd557c084f468356662e0585/PuLP-2.4-py3-none-any.whl (40.6MB)\n",
            "\u001b[K     |████████████████████████████████| 40.6MB 95kB/s \n",
            "\u001b[?25hCollecting amply>=0.1.2\n",
            "  Downloading https://files.pythonhosted.org/packages/f3/c5/dfa09dd2595a2ab2ab4e6fa7bebef9565812722e1980d04b0edce5032066/amply-0.1.4-py3-none-any.whl\n",
            "Requirement already satisfied: pyparsing in /usr/local/lib/python3.6/dist-packages (from amply>=0.1.2->pulp) (2.4.7)\n",
            "Requirement already satisfied: docutils>=0.3 in /usr/local/lib/python3.6/dist-packages (from amply>=0.1.2->pulp) (0.16)\n",
            "Installing collected packages: amply, pulp\n",
            "Successfully installed amply-0.1.4 pulp-2.4\n",
            "Reading package lists... Done\n",
            "Building dependency tree       \n",
            "Reading state information... Done\n",
            "The following additional packages will be installed:\n",
            "  coinor-libcbc3 coinor-libcgl1 coinor-libclp1 coinor-libcoinutils3v5\n",
            "  coinor-libosi1v5 libamd2 libcolamd2 libglpk40 libsuitesparseconfig5\n",
            "Suggested packages:\n",
            "  libiodbc2-dev default-libmysqlclient-dev\n",
            "The following NEW packages will be installed:\n",
            "  coinor-cbc coinor-clp coinor-libcbc3 coinor-libcgl1 coinor-libclp1\n",
            "  coinor-libcoinutils3v5 coinor-libosi1v5 glpk-utils libamd2 libcolamd2\n",
            "  libglpk40 libsuitesparseconfig5\n",
            "0 upgraded, 12 newly installed, 0 to remove and 14 not upgraded.\n",
            "Need to get 3,439 kB of archives.\n",
            "After this operation, 9,832 kB of additional disk space will be used.\n",
            "Get:1 http://archive.ubuntu.com/ubuntu bionic/main amd64 libsuitesparseconfig5 amd64 1:5.1.2-2 [9,044 B]\n",
            "Get:2 http://archive.ubuntu.com/ubuntu bionic/main amd64 libamd2 amd64 1:5.1.2-2 [19.5 kB]\n",
            "Get:3 http://archive.ubuntu.com/ubuntu bionic/main amd64 libcolamd2 amd64 1:5.1.2-2 [16.2 kB]\n",
            "Get:4 http://archive.ubuntu.com/ubuntu bionic/universe amd64 libglpk40 amd64 4.65-1 [378 kB]\n",
            "Get:5 http://archive.ubuntu.com/ubuntu bionic/universe amd64 glpk-utils amd64 4.65-1 [269 kB]\n",
            "Get:6 http://archive.ubuntu.com/ubuntu bionic/universe amd64 coinor-libcoinutils3v5 amd64 2.10.14+repack1-1 [472 kB]\n",
            "Get:7 http://archive.ubuntu.com/ubuntu bionic/universe amd64 coinor-libosi1v5 amd64 0.107.9+repack1-1 [270 kB]\n",
            "Get:8 http://archive.ubuntu.com/ubuntu bionic/universe amd64 coinor-libclp1 amd64 1.16.11+repack1-1 [863 kB]\n",
            "Get:9 http://archive.ubuntu.com/ubuntu bionic/universe amd64 coinor-libcgl1 amd64 0.59.10+repack1-1 [433 kB]\n",
            "Get:10 http://archive.ubuntu.com/ubuntu bionic/universe amd64 coinor-libcbc3 amd64 2.9.9+repack1-1 [687 kB]\n",
            "Get:11 http://archive.ubuntu.com/ubuntu bionic/universe amd64 coinor-cbc amd64 2.9.9+repack1-1 [11.2 kB]\n",
            "Get:12 http://archive.ubuntu.com/ubuntu bionic/universe amd64 coinor-clp amd64 1.16.11+repack1-1 [9,646 B]\n",
            "Fetched 3,439 kB in 2s (2,169 kB/s)\n",
            "debconf: unable to initialize frontend: Dialog\n",
            "debconf: (No usable dialog-like program is installed, so the dialog based frontend cannot be used. at /usr/share/perl5/Debconf/FrontEnd/Dialog.pm line 76, <> line 12.)\n",
            "debconf: falling back to frontend: Readline\n",
            "debconf: unable to initialize frontend: Readline\n",
            "debconf: (This frontend requires a controlling tty.)\n",
            "debconf: falling back to frontend: Teletype\n",
            "dpkg-preconfigure: unable to re-open stdin: \n",
            "Selecting previously unselected package libsuitesparseconfig5:amd64.\n",
            "(Reading database ... 144865 files and directories currently installed.)\n",
            "Preparing to unpack .../00-libsuitesparseconfig5_1%3a5.1.2-2_amd64.deb ...\n",
            "Unpacking libsuitesparseconfig5:amd64 (1:5.1.2-2) ...\n",
            "Selecting previously unselected package libamd2:amd64.\n",
            "Preparing to unpack .../01-libamd2_1%3a5.1.2-2_amd64.deb ...\n",
            "Unpacking libamd2:amd64 (1:5.1.2-2) ...\n",
            "Selecting previously unselected package libcolamd2:amd64.\n",
            "Preparing to unpack .../02-libcolamd2_1%3a5.1.2-2_amd64.deb ...\n",
            "Unpacking libcolamd2:amd64 (1:5.1.2-2) ...\n",
            "Selecting previously unselected package libglpk40:amd64.\n",
            "Preparing to unpack .../03-libglpk40_4.65-1_amd64.deb ...\n",
            "Unpacking libglpk40:amd64 (4.65-1) ...\n",
            "Selecting previously unselected package glpk-utils.\n",
            "Preparing to unpack .../04-glpk-utils_4.65-1_amd64.deb ...\n",
            "Unpacking glpk-utils (4.65-1) ...\n",
            "Selecting previously unselected package coinor-libcoinutils3v5.\n",
            "Preparing to unpack .../05-coinor-libcoinutils3v5_2.10.14+repack1-1_amd64.deb ...\n",
            "Unpacking coinor-libcoinutils3v5 (2.10.14+repack1-1) ...\n",
            "Selecting previously unselected package coinor-libosi1v5.\n",
            "Preparing to unpack .../06-coinor-libosi1v5_0.107.9+repack1-1_amd64.deb ...\n",
            "Unpacking coinor-libosi1v5 (0.107.9+repack1-1) ...\n",
            "Selecting previously unselected package coinor-libclp1.\n",
            "Preparing to unpack .../07-coinor-libclp1_1.16.11+repack1-1_amd64.deb ...\n",
            "Unpacking coinor-libclp1 (1.16.11+repack1-1) ...\n",
            "Selecting previously unselected package coinor-libcgl1.\n",
            "Preparing to unpack .../08-coinor-libcgl1_0.59.10+repack1-1_amd64.deb ...\n",
            "Unpacking coinor-libcgl1 (0.59.10+repack1-1) ...\n",
            "Selecting previously unselected package coinor-libcbc3.\n",
            "Preparing to unpack .../09-coinor-libcbc3_2.9.9+repack1-1_amd64.deb ...\n",
            "Unpacking coinor-libcbc3 (2.9.9+repack1-1) ...\n",
            "Selecting previously unselected package coinor-cbc.\n",
            "Preparing to unpack .../10-coinor-cbc_2.9.9+repack1-1_amd64.deb ...\n",
            "Unpacking coinor-cbc (2.9.9+repack1-1) ...\n",
            "Selecting previously unselected package coinor-clp.\n",
            "Preparing to unpack .../11-coinor-clp_1.16.11+repack1-1_amd64.deb ...\n",
            "Unpacking coinor-clp (1.16.11+repack1-1) ...\n",
            "Setting up libsuitesparseconfig5:amd64 (1:5.1.2-2) ...\n",
            "Setting up libcolamd2:amd64 (1:5.1.2-2) ...\n",
            "Setting up coinor-libcoinutils3v5 (2.10.14+repack1-1) ...\n",
            "Setting up coinor-libosi1v5 (0.107.9+repack1-1) ...\n",
            "Setting up coinor-libclp1 (1.16.11+repack1-1) ...\n",
            "Setting up libamd2:amd64 (1:5.1.2-2) ...\n",
            "Setting up coinor-libcgl1 (0.59.10+repack1-1) ...\n",
            "Setting up libglpk40:amd64 (4.65-1) ...\n",
            "Setting up coinor-clp (1.16.11+repack1-1) ...\n",
            "Setting up coinor-libcbc3 (2.9.9+repack1-1) ...\n",
            "Setting up glpk-utils (4.65-1) ...\n",
            "Setting up coinor-cbc (2.9.9+repack1-1) ...\n",
            "Processing triggers for man-db (2.8.3-2ubuntu0.1) ...\n",
            "Processing triggers for libc-bin (2.27-3ubuntu1.2) ...\n",
            "/sbin/ldconfig.real: /usr/local/lib/python3.6/dist-packages/ideep4py/lib/libmkldnn.so.0 is not a symbolic link\n",
            "\n"
          ],
          "name": "stdout"
        }
      ]
    },
    {
      "cell_type": "markdown",
      "metadata": {
        "id": "XKhi0pAPPCoi"
      },
      "source": [
        "**Problem - optymalizacja produkcji okien**\r\n",
        "\r\n",
        "Pewna firma produkuje okna. Może wyprodukować dwa typy okien: drewniane i aluminiowe. Okna są produkowane w 3 fabrykach. Pierwsza fabryka produkuje 1 partię okien aluminiowych na godzinę, może pracować 4 godziny na tydzień. Druga fabryka produkuje 2 partie okien drewnianych na godzinę, może pracować 12 godzin na tydzień. Trzecia fabryka produkuje 3 partie okien aluminiowych oraz 2 partie okien drewnianych na godzinę, może pracować 18 godzin na tydzień. Pojedyńcza partia okien drewnianych przynosi 3000 zł zysku, adrewnianych 5000 zł zysku. \r\n",
        "\r\n",
        "W jaki sposób firma powinna dobrać produkcję, aby zmaksymalizować zysk?\r\n",
        "\r\n",
        "|              | aluminiowe | drewniane | dostępność produkcji |\r\n",
        "|--------------|------------|-----------|----------------------|\r\n",
        "| Fabryka 1    | 1          | X         | 4 h/tydzień          |\r\n",
        "| Fabryka 2    | X          | 2         | 12 h/tydzień         |\r\n",
        "| Fabryka 3    | 3          | 2         | 18 h/tydzień         |\r\n",
        "| Zysk z partii| 3000       |5000       |                      |\r\n",
        "\r\n",
        "**Etapy rozwiązania problemu:**\r\n",
        "- **określenie zmiennych decyzyjnych**\r\n",
        "\r\n",
        "  liczba partii okien aluminiowych - x1\r\n",
        "\r\n",
        "  liczba partii okien drewnianych - x2\r\n",
        "- **funkcja celu**\r\n",
        "\r\n",
        "  maksymalizacja zysku\r\n",
        "\r\n",
        "  funkcja = 3 * x1 + 5 * x2\r\n",
        "- **ustalenie ograniczeń**\r\n",
        "\r\n",
        "  - wymagania doyczące wydajności i dostępności fabryk\r\n",
        "\r\n",
        "    3 * x1 + 2 * x2 <= 18\r\n",
        "\r\n",
        "    1 * x1 <= 4\r\n",
        "\r\n",
        "    2 * x2 <= 12\r\n",
        "  - liczba partii nie może być ujemna\r\n",
        "\r\n",
        "    x1 >= 0\r\n",
        "\r\n",
        "    x2 >= 0\r\n"
      ]
    },
    {
      "cell_type": "markdown",
      "metadata": {
        "id": "YfmhNk5BYcfL"
      },
      "source": [
        "**Rozwiązanie graficzne**"
      ]
    },
    {
      "cell_type": "code",
      "metadata": {
        "id": "bpYU1dUpYiSI",
        "outputId": "f5ea9295-e126-46a1-b858-cbb1eac99439",
        "colab": {
          "base_uri": "https://localhost:8080/",
          "height": 302
        }
      },
      "source": [
        "import numpy as np\r\n",
        "import matplotlib.pyplot as plt\r\n",
        "%matplotlib inline\r\n",
        "\r\n",
        "\r\n",
        "x = np.linspace(0, 10, 2000)\r\n",
        "\r\n",
        "\r\n",
        "y1 = 0*x +6\r\n",
        "y2=(18-3*x)/2\r\n",
        "y3=(-3*x+36)/5\r\n",
        "y4 = 0*x +1000\r\n",
        "# Make plot\r\n",
        "\r\n",
        "plt.plot(x, y1,label=r'$2.0*x2 <= 12.0$' )\r\n",
        "plt.plot(x, y2,label=r'$3.0*x1 + 2.0*x2 <= 18.0$ ')\r\n",
        "plt.plot(x, y4,color='black',label=r'$x1<=4$ ')\r\n",
        "plt.plot(x, y3,label=r'$3.0*x1 + 5.0*x2 <= 36.0$ ')\r\n",
        "\r\n",
        "plt.xlim((0, 10))\r\n",
        "plt.ylim((0, 10))\r\n",
        "plt.xlabel(r'$x_1$')\r\n",
        "plt.ylabel(r'$x_2$')\r\n",
        "\r\n",
        "plt.vlines(4,0,10)\r\n",
        "# Fill feasible region\r\n",
        "y5 = np.maximum(y1, 0)\r\n",
        "y6 = np.maximum(y2, 0)\r\n",
        "\r\n",
        "plt.fill_between(x,0, y6, color='black', alpha=0.33)\r\n",
        "plt.fill_between(x,0, y5, color='black', alpha=0.33)\r\n",
        "plt.fill_betweenx(x,4,0 , color='black', alpha=0.33)\r\n",
        "\r\n",
        "plt.legend(bbox_to_anchor=(1.05, 1), loc=2, borderaxespad=0.)"
      ],
      "execution_count": 3,
      "outputs": [
        {
          "output_type": "execute_result",
          "data": {
            "text/plain": [
              "<matplotlib.legend.Legend at 0x7fbef1160f28>"
            ]
          },
          "metadata": {
            "tags": []
          },
          "execution_count": 3
        },
        {
          "output_type": "display_data",
          "data": {
            "image/png": "[encoded data removed]",
            "text/plain": [
              "<Figure size 432x288 with 1 Axes>"
            ]
          },
          "metadata": {
            "tags": [],
            "needs_background": "light"
          }
        }
      ]
    },
    {
      "cell_type": "markdown",
      "metadata": {
        "id": "KxyVfdCEZzlf"
      },
      "source": [
        "Najciemniejszy obszar spełnia wszystkie ograniczenia.\r\n",
        "Pola jaśniejsze spełniają tylko część założeń."
      ]
    },
    {
      "cell_type": "markdown",
      "metadata": {
        "id": "BZAbtjJJZM_Q"
      },
      "source": [
        "**Rozwiązanie za pomoca biblioteki pulp**"
      ]
    },
    {
      "cell_type": "code",
      "metadata": {
        "id": "S8Bc6ZbfaU3e",
        "outputId": "2ae623bb-361e-4558-dce9-63c8a42999cc",
        "colab": {
          "base_uri": "https://localhost:8080/"
        }
      },
      "source": [
        "from pulp import *\r\n",
        "prob = LpProblem(\"Okna\",LpMaximize) # inicjalizacja problemu, maksymalizacja\r\n",
        "\r\n",
        "x1=LpVariable(\"aluminium\",0) # tworzenie zmiennych partii z ograniczeniem od zera\r\n",
        "x2=LpVariable(\"drewno\",0)\r\n",
        "\r\n",
        "prob += 3000*(x1) + 5000*(x2), \"Całkowity zysk\"\r\n",
        "prob += 1.0*x1 <= 4.0, \"Ograniczenia pierwszej fabryki\"\r\n",
        "prob += 2.0*x2 <= 12.0, \"Ograniczenia drugiej fabryki\"\r\n",
        "prob += 3.0*x1 + 2.0*x2 <= 18.0, \"Ograniczenia trzeciej fabryki\"\r\n",
        "\r\n",
        "\r\n",
        "\r\n",
        "prob.writeLP(\"Okna.lp\")\r\n",
        "prob.solve()\r\n",
        "print(\"Status:\", LpStatus[prob.status])\r\n",
        "print(\"Całkowity zysk = \", value(prob.objective))\r\n",
        "print(\"Wyprodukowano:\")\r\n",
        "\r\n",
        "for v in prob.variables():\r\n",
        "   print(v.name, \"=\", v.varValue, \"partie\")\r\n",
        "\r\n",
        "#!cat \"Problem3.lp\""
      ],
      "execution_count": 5,
      "outputs": [
        {
          "output_type": "stream",
          "text": [
            "Status: Optimal\n",
            "Całkowity zysk =  36000.0\n",
            "Wyprodukowano:\n",
            "aluminium = 2.0 partie\n",
            "drewno = 6.0 partie\n"
          ],
          "name": "stdout"
        }
      ]
    },
    {
      "cell_type": "markdown",
      "metadata": {
        "id": "pIXO6QAPckfL"
      },
      "source": [
        "**Wersja z regulacją dostępności partii oraz zysku**"
      ]
    },
    {
      "cell_type": "code",
      "metadata": {
        "id": "80hpr7C4DUlP",
        "colab": {
          "base_uri": "https://localhost:8080/",
          "height": 362,
          "referenced_widgets": [
            "be7d96461de84fbbb549d176d41df7f2",
            "b58e9a2c6f6b4235b31fed8bb724e380",
            "7b94369925424bec8ef71c90d9ada47e",
            "2d349754b76d4e06b82ab90361a08e0e",
            "c67b3e97082d4d3691d911ce02470d72",
            "1d34fc3bbe00490fa31f345dbcda1944",
            "0a842f130f6e4f53b9290d98e41b02c1",
            "ce2cffb0aebb4a399bda44cb6883e033",
            "9a0c2de7e4b2432289d146608c20c4d9",
            "1188c8cb11c142259f05a51b787adaa6",
            "d0e30191d76046c08b3a2435af31f1f6",
            "c3802f47c1c948299bf85e1d0d705631",
            "e0ef6cc6bd8c4295b1bd8ab28c8bbba3",
            "75555ae5ca5b4cca9cbd591b12383cb2",
            "3306194cefc348dd9939a92ff6f04de5",
            "7c83d1367d53414996c7b4a202525373",
            "76988c411db84fc49179e45291c3f7f2",
            "af09246496a94c08be62ccd0cdf51f84",
            "76a3a841914841228b43dec84a794f40",
            "c2a0be489bb24d76b5bea45d7b7df724",
            "a926d859c5024278a873d64970245e3c",
            "9191d7e47f12405c88adf5846d31f522"
          ]
        },
        "outputId": "9bbfa2e4-25d9-48a4-e51f-ee725b4df910"
      },
      "source": [
        "from pulp import *\n",
        "from ipywidgets import interact, interactive, fixed, interact_manual, Layout, FloatSlider, IntSlider\n",
        "import ipywidgets as widgets\n",
        "import pandas as pd\n",
        "\n",
        "style = {'description_width': 'initial'}\n",
        "\n",
        "# inicjalizacja sliderów\n",
        "liczba_godzin_partii_1_f1_slider = IntSlider(min=0,max = 15, value= 1, step = 1, description=\"czas produkcji aluminiowych f1\", style= style )\n",
        "liczba_godzin_partii_2_f2_slider = IntSlider(min=0,max = 15, value= 2, step = 1,description=\"czas produkcji drewnianych f2\", style= style )\n",
        "liczba_godzin_partii_1_f3_slider = IntSlider(min=0,max = 15, value= 3, step = 1,description=\"czas produkcji aluminiowych f3\", style= style )\n",
        "liczba_godzin_partii_2_f3_slider = IntSlider(min=0,max = 15, value= 2, step = 1,description=\"czas produkcji drewnianych f3\", style= style )\n",
        "zysk_partii_1_slider = IntSlider(min=0,max = 5000, value= 3000, step = 1,description=\"zysk_partii_aluminiowych\", style= style )\n",
        "zysk_partii_2_slider = IntSlider(min=0,max = 5000, value= 5000, step = 1,description=\"zysk_partii_drewnianych\", style= style )\n",
        "\n",
        "def produkcja(liczba_godzin_partii_1_f1 = 1, #inicjalizacja funkcji rozwiązującej problem\n",
        "    liczba_godzin_partii_2_f2 = 2,\n",
        "    liczba_godzin_partii_1_f3 = 3,\n",
        "    liczba_godzin_partii_2_f3 = 2,\n",
        "    zysk_partii_1 = 3000,\n",
        "    zysk_partii_2 = 5000):\n",
        "    prob = LpProblem(\"Okna\", LpMaximize) # inicjalizacja problemu, maksymalizacja\n",
        "\n",
        "    x1=LpVariable(\"Ile partii aluminiowych\",0) # tworzenie zmiennych partii z ograniczeniem od zera\n",
        "    x2=LpVariable(\"Ile partii drewnianych\",0)\n",
        "\n",
        "    prob += 3000 *x1 + 5000 * x2, \"Całkowity zysk\"\n",
        "    prob += liczba_godzin_partii_1_f1 * x1 <= 4.0, \"Ograniczenia pierwszej fabryki\"\n",
        "    prob += liczba_godzin_partii_2_f2 * x2 <= 12.0, \"Ograniczenia drugiej fabryki\"\n",
        "    prob += liczba_godzin_partii_1_f3 * x1 + liczba_godzin_partii_2_f3 * x2 <= 18.0, \"Ograniczenia trzeciej fabryki\"\n",
        "\n",
        "    prob.solve() # rozwiązanie problemu\n",
        "\n",
        "    for v in prob.variables():\n",
        "        print (v.name, \"=\", v.varValue) #wyświetlenie wartości zmiennych\n",
        "\n",
        "    print (\"Maksymalny zysk to: \", value(prob.objective),\"zł\" )\n",
        "\n",
        "    shadows = [{'name':name, 'shadow price': c.pi, \"slack\": c.slack} for name, c in prob.constraints.items()]\n",
        "    print(\"*\"*10+\"Shadow Prices\"+\"*\"*10)\n",
        "    print(pd.DataFrame(shadows))\n",
        "\n",
        "interact(produkcja, liczba_godzin_partii_1_f1 = liczba_godzin_partii_1_f1_slider,\n",
        "    liczba_godzin_partii_2_f2 = liczba_godzin_partii_2_f2_slider,\n",
        "    liczba_godzin_partii_1_f3 = liczba_godzin_partii_1_f3_slider,\n",
        "    liczba_godzin_partii_2_f3 = liczba_godzin_partii_2_f3_slider,\n",
        "    zysk_partii_1 = zysk_partii_1_slider,\n",
        "    zysk_partii_2 = zysk_partii_2_slider)\n",
        "\n"
      ],
      "execution_count": 13,
      "outputs": [
        {
          "output_type": "display_data",
          "data": {
            "application/vnd.jupyter.widget-view+json": {
              "model_id": "be7d96461de84fbbb549d176d41df7f2",
              "version_minor": 0,
              "version_major": 2
            },
            "text/plain": [
              "interactive(children=(IntSlider(value=1, description='czas produkcji aluminiowych f1', max=15, style=SliderSty…"
            ]
          },
          "metadata": {
            "tags": []
          }
        },
        {
          "output_type": "execute_result",
          "data": {
            "text/plain": [
              "<function __main__.produkcja>"
            ]
          },
          "metadata": {
            "tags": []
          },
          "execution_count": 13
        }
      ]
    }
  ]
}