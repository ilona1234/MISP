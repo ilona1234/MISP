{
  "nbformat": 4,
  "nbformat_minor": 0,
  "metadata": {
    "colab": {
      "name": "obwod1.ipynb",
      "provenance": [],
      "collapsed_sections": [],
      "authorship_tag": "ABX9TyMcgtUOrEWCPYpBdZDLiZ9A",
      "include_colab_link": true
    },
    "kernelspec": {
      "name": "python3",
      "display_name": "Python 3"
    }
  },
  "cells": [
    {
      "cell_type": "markdown",
      "metadata": {
        "id": "view-in-github",
        "colab_type": "text"
      },
      "source": [
        "<a href=\"https://colab.research.google.com/github/ilona1234/MISP/blob/main/zaj%C4%99cia%205.ipynb\" target=\"_parent\"><img src=\"https://colab.research.google.com/assets/colab-badge.svg\" alt=\"Open In Colab\"/></a>"
      ]
    },
    {
      "cell_type": "markdown",
      "metadata": {
        "id": "Bb4dm_AnK--g"
      },
      "source": [
        "**Rozwiązywanie problemów związanymi z obwodami elektrycznymi - zajęcia 5**"
      ]
    },
    {
      "cell_type": "markdown",
      "metadata": {
        "id": "17YTlJLALhdK"
      },
      "source": [
        "Instalacja biblioteki pulp"
      ]
    },
    {
      "cell_type": "code",
      "metadata": {
        "id": "yN2KT5QhYbas",
        "colab": {
          "base_uri": "https://localhost:8080/"
        },
        "outputId": "d4a554fe-281a-45e6-e33f-c7e9668a4b9a"
      },
      "source": [
        "!pip install pulp\n",
        "\n",
        "!sudo apt-get install coinor-cbc glpk-utils coinor-clp\n"
      ],
      "execution_count": null,
      "outputs": [
        {
          "output_type": "stream",
          "text": [
            "Requirement already satisfied: pulp in /usr/local/lib/python3.6/dist-packages (2.3.1)\n",
            "Requirement already satisfied: amply>=0.1.2 in /usr/local/lib/python3.6/dist-packages (from pulp) (0.1.4)\n",
            "Requirement already satisfied: docutils>=0.3 in /usr/local/lib/python3.6/dist-packages (from amply>=0.1.2->pulp) (0.16)\n",
            "Requirement already satisfied: pyparsing in /usr/local/lib/python3.6/dist-packages (from amply>=0.1.2->pulp) (2.4.7)\n",
            "Reading package lists... Done\n",
            "Building dependency tree       \n",
            "Reading state information... Done\n",
            "coinor-cbc is already the newest version (2.9.9+repack1-1).\n",
            "coinor-clp is already the newest version (1.16.11+repack1-1).\n",
            "glpk-utils is already the newest version (4.65-1).\n",
            "0 upgraded, 0 newly installed, 0 to remove and 11 not upgraded.\n"
          ],
          "name": "stdout"
        }
      ]
    },
    {
      "cell_type": "markdown",
      "metadata": {
        "id": "uyJHtUFOK84H"
      },
      "source": [
        "**Problem 1 - minimalizacja mocy na mostku**\r\n",
        "\r\n",
        "![obwod1.png](data:image/png;base64,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)\r\n",
        "\r\n",
        "W tabeli sa podane wartości napięć i prądów na rezystorach\r\n",
        "\r\n",
        "|  i        | 1 | 2  | 3 | 4 | 5 |   |\r\n",
        "|-----------|---|----|---|---|---|---|\r\n",
        "| Ui        | 6 | 10 | 4 | 7 | 3 | V |\r\n",
        "| Ii        | 4 | 2  | 2 | 2 | 4 | mA |\r\n",
        "| delta I   | 1 | 1  | 1 | 1 | 1 | mA |\r\n",
        "\r\n",
        "Zadaniem jest dobranie rezystorów, aby zminimalizować moc na rezystorach.\r\n",
        "\r\n",
        "**Etapy rozwiązania problemu:**\r\n",
        "- **określenie zmiennych decyzyjnych**\r\n",
        "\r\n",
        "  i1, i2, i3, i4, i5 - prądy płynące w ponumerowanych gałęziach\r\n",
        "- **funkcja celu**\r\n",
        "\r\n",
        "  minimalizacja wartości natężenia prądów, aby moc na rezystorach była najmniejsza\r\n",
        "\r\n",
        "  funkcja = 6 * i1 + 10 * i2 + 4 * i3 + 7 * i4 + 3 * i5 \r\n",
        "- **ustalenie ograniczeń**\r\n",
        "\r\n",
        "  - wymagania dotyczące rozpływu prądów w gałęziach\r\n",
        "\r\n",
        "    i3 + i4 = i1\r\n",
        "\r\n",
        "    i2 + i3 = i5\r\n",
        "\r\n",
        "    i1 + i2 = i4 + i5\r\n",
        "\r\n",
        "Po rozwiązaniu problemu uzyskujemy wartości prądów w gałęziach oraz minimalną wartość mocy w mostku. Przy znanych wartościach napięć można wyznaczyć wartości rezystancji za pomoca wzoru:\r\n",
        "\r\n",
        "Ri = Ui/Ii"
      ]
    },
    {
      "cell_type": "code",
      "metadata": {
        "id": "3XeIuPM1Yf3U",
        "colab": {
          "base_uri": "https://localhost:8080/"
        },
        "outputId": "af6632cf-e9c8-4d10-cc5a-cca1632446d0"
      },
      "source": [
        "# Import PuLP modeler functions\n",
        "from pulp import *\n",
        "\n",
        "prob = LpProblem(\"Problem_obwod\", LpMinimize)\n",
        "\n",
        "i1 = LpVariable(\"i1\",3,5) # inicjalizacja zmiennych  - prady w gałęziach\n",
        "i2 = LpVariable(\"i2\",1,3)\n",
        "i3 = LpVariable(\"i3\",1,3)\n",
        "i4 = LpVariable(\"i4\",1,3)\n",
        "i5 = LpVariable(\"i5\",3,5)\n",
        "\n",
        "prob+=6.0*i1+10.0*i2+4.0*i3+7.0*i4+3.0*i5 # całkowita moc na mostku\n",
        "prob+=i3+i4==i1 # warunki spełniające I prawo Kirchoffa\n",
        "prob+=i2+i3==i5\n",
        "prob+=i1+i2==i4+i5\n",
        "\n",
        "prob.solve() # rozwiąznaie problemu\n",
        "\n",
        "r1=6.0/value(i1) # obliczanie rezystancji \n",
        "r2=10.0/value(i2)\n",
        "r3=4.0/value(i3)\n",
        "r4=7.0/value(i4)\n",
        "r5=3.0/value(i5)\n",
        "\n",
        "# Wyświetlanie wartości prądów\n",
        "for v in prob.variables():\n",
        "  print (v.name, \"=\", v.varValue,\"mA\")\n",
        "\n",
        "print(\"Wartości rezystancji to:\")\n",
        "print(\"R1=\",r1, \"kOhm\")\n",
        "print(\"R2=\",r2, \"kOhm\")\n",
        "print(\"R3=\",r3, \"kOhm\")\n",
        "print(\"R4=\",r4, \"kOhm\")\n",
        "print(\"R5=\",r5, \"kOhm\")\n",
        "\n",
        "print (\"Minimalna moc to: \", value(prob.objective),\"mV\")"
      ],
      "execution_count": null,
      "outputs": [
        {
          "output_type": "stream",
          "text": [
            "i1 = 3.0 mA\n",
            "i2 = 1.0 mA\n",
            "i3 = 2.0 mA\n",
            "i4 = 1.0 mA\n",
            "i5 = 3.0 mA\n",
            "Wartości rezystancji to:\n",
            "R1= 2.0 kOhm\n",
            "R2= 10.0 kOhm\n",
            "R3= 2.0 kOhm\n",
            "R4= 7.0 kOhm\n",
            "R5= 1.0 kOhm\n",
            "Minimalna moc to:  52.0 mV\n"
          ],
          "name": "stdout"
        }
      ]
    },
    {
      "cell_type": "markdown",
      "metadata": {
        "id": "zzYm0K5EWbqK"
      },
      "source": [
        "**Problem 2 - wyznaczenie maksymalnego prądu w obwodzie**\r\n",
        "\r\n",
        "![obwod2.png](data:image/png;base64,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)\r\n",
        "\r\n",
        "|  i        | 1 | 2  | 3 | 4 | 5 |   |\r\n",
        "|-----------|---|----|---|---|---|---|\r\n",
        "| Ri        | 8 | 6 | 4 | 10 | 8 | Ohm |\r\n",
        "| Ii max       | 2 | 3  | 4 | 2 | 2 | A |\r\n",
        "\r\n",
        "Zadaniem jest maksymalizacja prądu w gałęzi i3\r\n",
        "\r\n",
        "**Etapy rozwiązania problemu:**\r\n",
        "- **określenie zmiennych decyzyjnych**\r\n",
        "\r\n",
        "  i1, i2, i3, i4, i5 - prądy płynące w ponumerowanych gałęziach\r\n",
        "- **funkcja celu**\r\n",
        "\r\n",
        "  maksymalizacja wartości natężenia prądu i3\r\n",
        "\r\n",
        "  funkcja = i3\r\n",
        "- **ustalenie ograniczeń**\r\n",
        "\r\n",
        "  - wymagania dotyczące rozpływu prądów w gałęziach\r\n",
        "\r\n",
        "    8 * i1 = 6 * i2\r\n",
        "\r\n",
        "    10 * i4 = 8 * i5\r\n",
        "\r\n",
        "    i1 + i2 = i3\r\n",
        "\r\n",
        "    i4 + i5 = i3\r\n",
        "\r\n",
        "Po rozwiązaniu problemu uzyskujemy wartości prądów w gałęziach.\r\n"
      ]
    },
    {
      "cell_type": "code",
      "metadata": {
        "id": "tF0THk8taxf5"
      },
      "source": [
        "# Import PuLP modeler functions\r\n",
        "from pulp import *\r\n",
        "\r\n",
        "prob = LpProblem(\"Problem_obwod\", LpMaximize)\r\n",
        "\r\n",
        "i1 = LpVariable(\"i1\",0,2) # inicjalizacja zmiennych prądów z ograniczeniami\r\n",
        "i2 = LpVariable(\"i2\",0,3)\r\n",
        "i3 = LpVariable(\"i3\",0,4)\r\n",
        "i4 = LpVariable(\"i4\",0,2)\r\n",
        "i5 = LpVariable(\"i5\",0,2)\r\n",
        "\r\n",
        "prob+=i3\r\n",
        "prob+=8.0*i1==6.0*i2\r\n",
        "prob+=10.0*i4==8.0*i5\r\n",
        "prob+=i1+i2==i3\r\n",
        "prob+=i4+i5==i3\r\n",
        "\r\n",
        "prob.solve() # rozwiązanie problemu\r\n",
        "\r\n",
        "# wyświetlenie wartości prądów\r\n",
        "for v in prob.variables():\r\n",
        "  print (v.name, \"=\", v.varValue,\"A\")\r\n"
      ],
      "execution_count": null,
      "outputs": []
    }
  ]
}