{
  "nbformat": 4,
  "nbformat_minor": 0,
  "metadata": {
    "kernelspec": {
      "display_name": "Python 3",
      "language": "python",
      "name": "python3"
    },
    "language_info": {
      "codemirror_mode": {
        "name": "ipython",
        "version": 3
      },
      "file_extension": ".py",
      "mimetype": "text/x-python",
      "name": "python",
      "nbconvert_exporter": "python",
      "pygments_lexer": "ipython3",
      "version": "3.7.3"
    },
    "colab": {
      "name": "podstawy_python_jupyter.ipynb",
      "provenance": [],
      "include_colab_link": true
    }
  },
  "cells": [
    {
      "cell_type": "markdown",
      "metadata": {
        "id": "view-in-github",
        "colab_type": "text"
      },
      "source": [
        "<a href=\"https://colab.research.google.com/github/ilona1234/MISP/blob/main/zaj%C4%99cia_1.ipynb\" target=\"_parent\"><img src=\"https://colab.research.google.com/assets/colab-badge.svg\" alt=\"Open In Colab\"/></a>"
      ]
    },
    {
      "cell_type": "markdown",
      "metadata": {
        "id": "TUZIAK52zpDS"
      },
      "source": [
        "**Zadania z podstaw Pythona - zajęcia 1**"
      ]
    },
    {
      "cell_type": "markdown",
      "metadata": {
        "id": "OkA8JbGoqA-Z"
      },
      "source": [
        "**Zad 1. Wyświetlanie danych z tablicy**\r\n",
        "\r\n",
        "---\r\n",
        "\r\n",
        "W zadaniu są podane 2 tablice: jedna z dniami tygodnia, druga zaś z zajęciami danego dnia. Najpierw są wyświetlane zajęcia od środy do piątku. Następnie \r\n",
        "pojawiają się zajęcia na wszystkie dni tygodnia oprócz środy.\r\n",
        "\r\n",
        "\r\n"
      ]
    },
    {
      "cell_type": "code",
      "metadata": {
        "id": "iQ4Dm4RVmOR0",
        "colab": {
          "base_uri": "https://localhost:8080/"
        },
        "outputId": "7a0afeb3-a17f-4ea8-bfc3-1b681bd28e88"
      },
      "source": [
        "#### challenge 0.1\n",
        "\n",
        "zajecia = [\"wf\",\"informatyka\",\"relax\",\"mispy\",\"piateczek\"]\n",
        "\n",
        "dnityg= [\"Pon\",\"Wto\",\"Sro\",\"Czwar\",\"Pio\"]\n",
        "\n",
        "# wyprintuj zajecia od srody do piatku\n",
        "x = range(2,5,1) # x osiąga zakres od 2 do 5 z krokiem 1\n",
        "for n in x:\n",
        "    print(zajecia[n]) # sa wyświetlane dane z tablicy z indeksem z zakresu x\n",
        "print (\"\")\n",
        "# wyprintuj oprocz srody\n",
        "y = range(5)\n",
        "for i in y:\n",
        "    if i != dnityg.index(\"Sro\"): # wyklucza wyświetlenie elementu zawierającego środę\n",
        "        print(zajecia[i]) "
      ],
      "execution_count": 1,
      "outputs": [
        {
          "output_type": "stream",
          "text": [
            "relax\n",
            "mispy\n",
            "piateczek\n",
            "\n",
            "wf\n",
            "informatyka\n",
            "mispy\n",
            "piateczek\n"
          ],
          "name": "stdout"
        }
      ]
    },
    {
      "cell_type": "markdown",
      "metadata": {
        "id": "eKjjWh428q5r"
      },
      "source": [
        "**Zad.2 - Funkcje, sortowanie**\r\n",
        "\r\n",
        "\r\n",
        "---\r\n",
        "W tym zadaniu są 2 tablice: pierwsza z zajęciami danego dnia oraz druga z dniami tygodnia. Najpierw zostaje zdefiniowana funkcja, która zlicza liczbę zajęć danego dnia, a nastepnie wyswietla ją wyświetla. Po zliczeniu zajęć połączone zostają tablice z dniami tygodnia oraz liczbą zajęć. Pózniej są elementy sortowane malejąco względem liczby zajęć oraz tworzona nowa tablica z posortowanymi dniami tygodnia od najbardziej do najmniej zajętych.\r\n"
      ]
    },
    {
      "cell_type": "code",
      "metadata": {
        "id": "BZ8vylJdmOR2",
        "colab": {
          "base_uri": "https://localhost:8080/"
        },
        "outputId": "4f1d1826-542f-4eb9-8d02-4e551fb517cf"
      },
      "source": [
        "#### challenge 0.2\n",
        "\n",
        "zajecia = [[\"wf\"],\n",
        "           [\"informatyka\", \"nauka czytania\"],\n",
        "           [\"relax\", \"jedzenie\"],\n",
        "           [\"mispy\",\"mispy w domu\"],\n",
        "           [\"piateczek\", \"praca domowa z mispow\", \"Ilovemispy\", \"mispy w czasie snu\"]\n",
        "          ]\n",
        "\n",
        "dnityg= [\"Pon\",\"Wto\",\"Sro\",\"Czwar\",\"Pio\"]\n",
        "\n",
        "# zdefiniuj funkcje ktora poda ile jest zajec danego dnia\n",
        "def ile_zajec(zajecia,dnityg):\n",
        "    liczba_zajec = []\n",
        "    x = len(dnityg)\n",
        "    for i in range(x):\n",
        "      liczba_zajec.append(len(zajecia[i])) # dodaje kolejno wartośći dlugości tablicy zajęć danego dnia \n",
        "\n",
        "    return liczba_zajec\n",
        "\n",
        "liczba_zajec = ile_zajec(zajecia, dnityg)\n",
        "\n",
        "print(\"W poniedziałek są\", liczba_zajec[0], \"zajęcia\" )\n",
        "print(\"We wtorek są\", liczba_zajec[1], \"zajęcia\" )\n",
        "print(\"W środę są\", liczba_zajec[2], \"zajęcia\" )\n",
        "print(\"W czwartek są\", liczba_zajec[3], \"zajęcia\" )\n",
        "print(\"W piątek są\", liczba_zajec[4], \"zajęcia\" )\n",
        "\n",
        "# posortuj dni po najbardziej zajetych\n",
        "dni_do_sortowania = zip(dnityg,liczba_zajec)\n",
        "result  = sorted(dni_do_sortowania, key = lambda x:x[1], reverse = True) # sortowanie malejące względem liczby zajęć\n",
        "dni_posortowane = []\n",
        "for x in result:\n",
        "    dni_posortowane.append(x[0]) # dodawanie kolejno dni tygodnia z posortowanej tablicy\n",
        "\n",
        "print (dni_posortowane)"
      ],
      "execution_count": 2,
      "outputs": [
        {
          "output_type": "stream",
          "text": [
            "W poniedziałek są 1 zajęcia\n",
            "We wtorek są 2 zajęcia\n",
            "W środę są 2 zajęcia\n",
            "W czwartek są 2 zajęcia\n",
            "W piątek są 4 zajęcia\n",
            "['Pio', 'Wto', 'Sro', 'Czwar', 'Pon']\n"
          ],
          "name": "stdout"
        }
      ]
    },
    {
      "cell_type": "markdown",
      "metadata": {
        "id": "95FNREy_AT2E"
      },
      "source": [
        "**Zad.3 - Znajdowanie maksymalnej wartości z tablicy**\r\n",
        "\r\n",
        "\r\n",
        "---\r\n",
        "\r\n",
        "Zadanie polega na znalezieniu dnia tygodnia, który zawiera największą liczbę zajęć dotyczącą mispów. Program najpierw tworzy tablicę, która zbiera liczbę zajęć misp dla danego dnia. Następnie ta tablica jest łączona z tablicą dni tygodnia oraz jest wyszukany dzień z największą liczbą zajęć dotyczącą mispów. "
      ]
    },
    {
      "cell_type": "code",
      "metadata": {
        "id": "CNiZ1E3ZmOR6",
        "colab": {
          "base_uri": "https://localhost:8080/"
        },
        "outputId": "b98ea096-1130-494c-8f07-f2f705594033"
      },
      "source": [
        "#### challenge 0.3\n",
        "\n",
        "liczba_mispow = []\n",
        "x = len(dnityg)\n",
        "for i in range(x):\n",
        "    liczba_mispow.append(0) # dodaje kolejny element do tablicy\n",
        "    for zajecie in zajecia[i]:\n",
        "      if zajecie.find(\"misp\") != -1: # znalezienie zajęć, które zawierajaą nazwe \"misp\", -1 pojawia się, gdy nie znaleziono elementu\n",
        "          liczba_mispow[i] += 1 # jeśli znajdzie zajęcia z misp, inkrementuje się zmienną liczby zajęć danego dnia\n",
        "dni_z_liczba_mispow  = zip(dnityg,liczba_mispow)\n",
        "max_mispow = max(dni_z_liczba_mispow, key = lambda x:x[1]) # szukanie maksimum po liczbie zajęćz mispami\n",
        "dzien_z_najwieksza_iloscia_mispow = max_mispow[0]\n",
        "print(dzien_z_najwieksza_iloscia_mispow)\n"
      ],
      "execution_count": 3,
      "outputs": [
        {
          "output_type": "stream",
          "text": [
            "Pio\n"
          ],
          "name": "stdout"
        }
      ]
    }
  ]
}