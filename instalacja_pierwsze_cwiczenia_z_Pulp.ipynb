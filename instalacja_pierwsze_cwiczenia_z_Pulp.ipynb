{
  "nbformat": 4,
  "nbformat_minor": 0,
  "metadata": {
    "colab": {
      "name": "instalacja_pierwsze_cwiczenia_z_Pulp.ipynb",
      "provenance": [],
      "collapsed_sections": [],
      "include_colab_link": true
    },
    "kernelspec": {
      "name": "python3",
      "display_name": "Python 3"
    }
  },
  "cells": [
    {
      "cell_type": "markdown",
      "metadata": {
        "id": "view-in-github",
        "colab_type": "text"
      },
      "source": [
        "<a href=\"https://colab.research.google.com/github/ilona1234/MISP/blob/main/instalacja_pierwsze_cwiczenia_z_Pulp.ipynb\" target=\"_parent\"><img src=\"https://colab.research.google.com/assets/colab-badge.svg\" alt=\"Open In Colab\"/></a>"
      ]
    },
    {
      "cell_type": "code",
      "metadata": {
        "id": "BjX-mj9e8D5a",
        "outputId": "ac1fdd64-60a8-4984-fe1d-b10b013da7f9",
        "colab": {
          "base_uri": "https://localhost:8080/",
          "height": 1000
        }
      },
      "source": [
        "!pip install pulp\n",
        "\n",
        "!sudo apt-get install coinor-cbc glpk-utils coinor-clp\n"
      ],
      "execution_count": 1,
      "outputs": [
        {
          "output_type": "stream",
          "text": [
            "Collecting pulp\n",
            "\u001b[?25l  Downloading https://files.pythonhosted.org/packages/89/0c/6d80f5f81a92d1733cc5ca180491b8a3cd5839e335627a0046c81b7d3d3d/PuLP-2.3.1-py3-none-any.whl (40.6MB)\n",
            "\u001b[K     |████████████████████████████████| 40.6MB 103kB/s \n",
            "\u001b[?25hCollecting amply>=0.1.2\n",
            "  Downloading https://files.pythonhosted.org/packages/f3/c5/dfa09dd2595a2ab2ab4e6fa7bebef9565812722e1980d04b0edce5032066/amply-0.1.4-py3-none-any.whl\n",
            "Requirement already satisfied: docutils>=0.3 in /usr/local/lib/python3.6/dist-packages (from amply>=0.1.2->pulp) (0.16)\n",
            "Requirement already satisfied: pyparsing in /usr/local/lib/python3.6/dist-packages (from amply>=0.1.2->pulp) (2.4.7)\n",
            "Installing collected packages: amply, pulp\n",
            "Successfully installed amply-0.1.4 pulp-2.3.1\n",
            "Reading package lists... Done\n",
            "Building dependency tree       \n",
            "Reading state information... Done\n",
            "The following additional packages will be installed:\n",
            "  coinor-libcbc3 coinor-libcgl1 coinor-libclp1 coinor-libcoinutils3v5\n",
            "  coinor-libosi1v5 libamd2 libcolamd2 libglpk40 libsuitesparseconfig5\n",
            "Suggested packages:\n",
            "  libiodbc2-dev default-libmysqlclient-dev\n",
            "The following NEW packages will be installed:\n",
            "  coinor-cbc coinor-clp coinor-libcbc3 coinor-libcgl1 coinor-libclp1\n",
            "  coinor-libcoinutils3v5 coinor-libosi1v5 glpk-utils libamd2 libcolamd2\n",
            "  libglpk40 libsuitesparseconfig5\n",
            "0 upgraded, 12 newly installed, 0 to remove and 21 not upgraded.\n",
            "Need to get 3,439 kB of archives.\n",
            "After this operation, 9,832 kB of additional disk space will be used.\n",
            "Get:1 http://archive.ubuntu.com/ubuntu bionic/main amd64 libsuitesparseconfig5 amd64 1:5.1.2-2 [9,044 B]\n",
            "Get:2 http://archive.ubuntu.com/ubuntu bionic/main amd64 libamd2 amd64 1:5.1.2-2 [19.5 kB]\n",
            "Get:3 http://archive.ubuntu.com/ubuntu bionic/main amd64 libcolamd2 amd64 1:5.1.2-2 [16.2 kB]\n",
            "Get:4 http://archive.ubuntu.com/ubuntu bionic/universe amd64 libglpk40 amd64 4.65-1 [378 kB]\n",
            "Get:5 http://archive.ubuntu.com/ubuntu bionic/universe amd64 glpk-utils amd64 4.65-1 [269 kB]\n",
            "Get:6 http://archive.ubuntu.com/ubuntu bionic/universe amd64 coinor-libcoinutils3v5 amd64 2.10.14+repack1-1 [472 kB]\n",
            "Get:7 http://archive.ubuntu.com/ubuntu bionic/universe amd64 coinor-libosi1v5 amd64 0.107.9+repack1-1 [270 kB]\n",
            "Get:8 http://archive.ubuntu.com/ubuntu bionic/universe amd64 coinor-libclp1 amd64 1.16.11+repack1-1 [863 kB]\n",
            "Get:9 http://archive.ubuntu.com/ubuntu bionic/universe amd64 coinor-libcgl1 amd64 0.59.10+repack1-1 [433 kB]\n",
            "Get:10 http://archive.ubuntu.com/ubuntu bionic/universe amd64 coinor-libcbc3 amd64 2.9.9+repack1-1 [687 kB]\n",
            "Get:11 http://archive.ubuntu.com/ubuntu bionic/universe amd64 coinor-cbc amd64 2.9.9+repack1-1 [11.2 kB]\n",
            "Get:12 http://archive.ubuntu.com/ubuntu bionic/universe amd64 coinor-clp amd64 1.16.11+repack1-1 [9,646 B]\n",
            "Fetched 3,439 kB in 1s (2,363 kB/s)\n",
            "debconf: unable to initialize frontend: Dialog\n",
            "debconf: (No usable dialog-like program is installed, so the dialog based frontend cannot be used. at /usr/share/perl5/Debconf/FrontEnd/Dialog.pm line 76, <> line 12.)\n",
            "debconf: falling back to frontend: Readline\n",
            "debconf: unable to initialize frontend: Readline\n",
            "debconf: (This frontend requires a controlling tty.)\n",
            "debconf: falling back to frontend: Teletype\n",
            "dpkg-preconfigure: unable to re-open stdin: \n",
            "Selecting previously unselected package libsuitesparseconfig5:amd64.\n",
            "(Reading database ... 144611 files and directories currently installed.)\n",
            "Preparing to unpack .../00-libsuitesparseconfig5_1%3a5.1.2-2_amd64.deb ...\n",
            "Unpacking libsuitesparseconfig5:amd64 (1:5.1.2-2) ...\n",
            "Selecting previously unselected package libamd2:amd64.\n",
            "Preparing to unpack .../01-libamd2_1%3a5.1.2-2_amd64.deb ...\n",
            "Unpacking libamd2:amd64 (1:5.1.2-2) ...\n",
            "Selecting previously unselected package libcolamd2:amd64.\n",
            "Preparing to unpack .../02-libcolamd2_1%3a5.1.2-2_amd64.deb ...\n",
            "Unpacking libcolamd2:amd64 (1:5.1.2-2) ...\n",
            "Selecting previously unselected package libglpk40:amd64.\n",
            "Preparing to unpack .../03-libglpk40_4.65-1_amd64.deb ...\n",
            "Unpacking libglpk40:amd64 (4.65-1) ...\n",
            "Selecting previously unselected package glpk-utils.\n",
            "Preparing to unpack .../04-glpk-utils_4.65-1_amd64.deb ...\n",
            "Unpacking glpk-utils (4.65-1) ...\n",
            "Selecting previously unselected package coinor-libcoinutils3v5.\n",
            "Preparing to unpack .../05-coinor-libcoinutils3v5_2.10.14+repack1-1_amd64.deb ...\n",
            "Unpacking coinor-libcoinutils3v5 (2.10.14+repack1-1) ...\n",
            "Selecting previously unselected package coinor-libosi1v5.\n",
            "Preparing to unpack .../06-coinor-libosi1v5_0.107.9+repack1-1_amd64.deb ...\n",
            "Unpacking coinor-libosi1v5 (0.107.9+repack1-1) ...\n",
            "Selecting previously unselected package coinor-libclp1.\n",
            "Preparing to unpack .../07-coinor-libclp1_1.16.11+repack1-1_amd64.deb ...\n",
            "Unpacking coinor-libclp1 (1.16.11+repack1-1) ...\n",
            "Selecting previously unselected package coinor-libcgl1.\n",
            "Preparing to unpack .../08-coinor-libcgl1_0.59.10+repack1-1_amd64.deb ...\n",
            "Unpacking coinor-libcgl1 (0.59.10+repack1-1) ...\n",
            "Selecting previously unselected package coinor-libcbc3.\n",
            "Preparing to unpack .../09-coinor-libcbc3_2.9.9+repack1-1_amd64.deb ...\n",
            "Unpacking coinor-libcbc3 (2.9.9+repack1-1) ...\n",
            "Selecting previously unselected package coinor-cbc.\n",
            "Preparing to unpack .../10-coinor-cbc_2.9.9+repack1-1_amd64.deb ...\n",
            "Unpacking coinor-cbc (2.9.9+repack1-1) ...\n",
            "Selecting previously unselected package coinor-clp.\n",
            "Preparing to unpack .../11-coinor-clp_1.16.11+repack1-1_amd64.deb ...\n",
            "Unpacking coinor-clp (1.16.11+repack1-1) ...\n",
            "Setting up libsuitesparseconfig5:amd64 (1:5.1.2-2) ...\n",
            "Setting up libcolamd2:amd64 (1:5.1.2-2) ...\n",
            "Setting up coinor-libcoinutils3v5 (2.10.14+repack1-1) ...\n",
            "Setting up coinor-libosi1v5 (0.107.9+repack1-1) ...\n",
            "Setting up coinor-libclp1 (1.16.11+repack1-1) ...\n",
            "Setting up libamd2:amd64 (1:5.1.2-2) ...\n",
            "Setting up coinor-libcgl1 (0.59.10+repack1-1) ...\n",
            "Setting up libglpk40:amd64 (4.65-1) ...\n",
            "Setting up coinor-clp (1.16.11+repack1-1) ...\n",
            "Setting up coinor-libcbc3 (2.9.9+repack1-1) ...\n",
            "Setting up glpk-utils (4.65-1) ...\n",
            "Setting up coinor-cbc (2.9.9+repack1-1) ...\n",
            "Processing triggers for man-db (2.8.3-2ubuntu0.1) ...\n",
            "Processing triggers for libc-bin (2.27-3ubuntu1.2) ...\n",
            "/sbin/ldconfig.real: /usr/local/lib/python3.6/dist-packages/ideep4py/lib/libmkldnn.so.0 is not a symbolic link\n",
            "\n"
          ],
          "name": "stdout"
        }
      ]
    },
    {
      "cell_type": "code",
      "metadata": {
        "id": "HMGiufp89W-9",
        "outputId": "520e1b9c-e52f-48cd-8176-f0681a06665a",
        "colab": {
          "base_uri": "https://localhost:8080/",
          "height": 34
        }
      },
      "source": [
        "### kod sprawdza czy instalacja się udała\n",
        "import pulp\n",
        "\n",
        "print(pulp.__version__)"
      ],
      "execution_count": null,
      "outputs": [
        {
          "output_type": "stream",
          "text": [
            "2.3.1\n"
          ],
          "name": "stdout"
        }
      ]
    },
    {
      "cell_type": "code",
      "metadata": {
        "id": "05p9Frax-V2f",
        "outputId": "3be8515c-22a9-49bb-af4c-7353a2553c73",
        "colab": {
          "base_uri": "https://localhost:8080/",
          "height": 1000
        }
      },
      "source": [
        "pulp.pulpTestAll()"
      ],
      "execution_count": null,
      "outputs": [
        {
          "output_type": "stream",
          "text": [
            "................"
          ],
          "name": "stderr"
        },
        {
          "output_type": "stream",
          "text": [
            "Solver <class 'pulp.apis.coin_api.PULP_CBC_CMD'> available\n",
            "Solver <class 'pulp.apis.cplex_api.CPLEX_DLL'> unavailable\n",
            "Solver <class 'pulp.apis.cplex_api.CPLEX_CMD'> unavailable\n",
            "Solver <class 'pulp.apis.cplex_api.CPLEX_PY'> unavailable\n",
            "Solver <class 'pulp.apis.coin_api.COIN_CMD'> available\n",
            "Solver <class 'pulp.apis.coin_api.COINMP_DLL'> unavailable\n",
            "Solver <class 'pulp.apis.glpk_api.GLPK_CMD'> available\n",
            "Solver <class 'pulp.apis.xpress_api.XPRESS'> unavailable\n",
            "Solver <class 'pulp.apis.gurobi_api.GUROBI'> unavailable\n",
            "Solver <class 'pulp.apis.gurobi_api.GUROBI_CMD'> unavailable\n",
            "Solver <class 'pulp.apis.glpk_api.PYGLPK'> unavailable\n",
            "Solver <class 'pulp.apis.coin_api.YAPOSIB'> unavailable\n",
            "Solver <class 'pulp.apis.choco_api.PULP_CHOCO_CMD'> available\n",
            "Solver <class 'pulp.apis.choco_api.CHOCO_CMD'> unavailable\n",
            "Solver <class 'pulp.apis.mipcl_api.MIPCL_CMD'> unavailable\n",
            "Solver <class 'pulp.apis.mosek_api.MOSEK'> unavailable\n",
            "Solver <class 'pulp.apis.scip_api.SCIP_CMD'> unavailable\n",
            "\t Testing invalid status\n",
            "\t Testing continuous LP solution - export dict\n",
            "\t Testing MIP solution\n",
            "\t Testing maximize continuous LP solution\n",
            "\t Testing continuous LP solution - export JSON\n",
            "\t Testing continuous LP solution - export solver dict\n",
            "\t Testing continuous LP solution - export solver JSON\n",
            "\t Testing makeDict general behavior\n",
            "\t Testing makeDict default value behavior\n",
            "\t Testing the availability of the function pulpTestAll\n",
            "\t Testing zero subtraction\n",
            "\t Testing inconsistent lp solution\n",
            "\t Testing continuous LP solution\n",
            "\t Testing maximize continuous LP solution\n",
            "\t Testing unbounded continuous LP solution\n",
            "\t Testing Long Names\n"
          ],
          "name": "stdout"
        },
        {
          "output_type": "stream",
          "text": [
            "..............."
          ],
          "name": "stderr"
        },
        {
          "output_type": "stream",
          "text": [
            "\t Testing repeated Names\n",
            "\t Testing zero constraint\n",
            "\t Testing zero objective\n",
            "\t Testing LpVariable (not LpAffineExpression) objective\n",
            "\t Testing Long lines in LP\n",
            "\t Testing LpAffineExpression divide\n",
            "\t Testing MIP solution\n",
            "\t Testing MIP solution with floats in objective\n",
            "\t Testing MIP solution\n",
            "\t Testing MIP solution\n",
            "\t Testing MIP relaxation\n",
            "\t Testing feasibility problem (no objective)\n",
            "\t Testing an infeasible problem\n",
            "\t Testing an integer infeasible problem\n",
            "\t Testing another integer infeasible problem"
          ],
          "name": "stdout"
        },
        {
          "output_type": "stream",
          "text": [
            ".............."
          ],
          "name": "stderr"
        },
        {
          "output_type": "stream",
          "text": [
            "\n",
            "\t Testing column based modelling\n",
            "\t Testing dual variables and slacks reporting\n",
            "\t Testing fractional constraints\n",
            "\t Testing elastic constraints (no change)\n",
            "\t Testing elastic constraints (freebound)\n",
            "\t Testing elastic constraints (penalty unchanged)\n",
            "\t Testing elastic constraints (penalty unbounded)\n",
            "\t Testing invalid status\n",
            "\t Testing continuous LP solution - export dict\n",
            "\t Testing MIP solution\n"
          ],
          "name": "stdout"
        },
        {
          "output_type": "stream",
          "text": [
            ".............."
          ],
          "name": "stderr"
        },
        {
          "output_type": "stream",
          "text": [
            "\t Testing maximize continuous LP solution\n",
            "\t Testing continuous LP solution - export JSON\n",
            "\t Testing continuous LP solution - export solver dict\n",
            "\t Testing continuous LP solution - export solver JSON\n",
            "\t Testing makeDict general behavior\n",
            "\t Testing makeDict default value behavior\n",
            "\t Testing the availability of the function pulpTestAll\n",
            "\t Testing zero subtraction\n",
            "\t Testing inconsistent lp solution\n",
            "\t Testing continuous LP solution\n",
            "\t Testing maximize continuous LP solution\n",
            "\t Testing unbounded continuous LP solution\n",
            "\t Testing Long Names\n"
          ],
          "name": "stdout"
        },
        {
          "output_type": "stream",
          "text": [
            "..........."
          ],
          "name": "stderr"
        },
        {
          "output_type": "stream",
          "text": [
            "\t Testing repeated Names\n",
            "\t Testing zero constraint\n",
            "\t Testing zero objective\n",
            "\t Testing LpVariable (not LpAffineExpression) objective\n",
            "\t Testing Long lines in LP\n",
            "\t Testing LpAffineExpression divide\n",
            "\t Testing MIP solution\n",
            "\t Testing MIP solution with floats in objective\n",
            "\t Testing MIP solution\n",
            "\t Testing MIP solution\n",
            "\t Testing MIP relaxation\n"
          ],
          "name": "stdout"
        },
        {
          "output_type": "stream",
          "text": [
            ".............."
          ],
          "name": "stderr"
        },
        {
          "output_type": "stream",
          "text": [
            "\t Testing feasibility problem (no objective)\n",
            "\t Testing an infeasible problem\n",
            "\t Testing an integer infeasible problem\n",
            "\t Testing another integer infeasible problem\n",
            "\t Testing column based modelling\n",
            "\t Testing fractional constraints\n",
            "\t Testing elastic constraints (no change)\n",
            "\t Testing elastic constraints (freebound)\n",
            "\t Testing elastic constraints (penalty unchanged)\n",
            "\t Testing elastic constraints (penalty unbounded)\n"
          ],
          "name": "stdout"
        },
        {
          "output_type": "stream",
          "text": [
            "........................"
          ],
          "name": "stderr"
        },
        {
          "output_type": "stream",
          "text": [
            "\t Testing invalid status\n",
            "\t Testing continuous LP solution - export dict\n",
            "\t Testing MIP solution\n",
            "\t Testing maximize continuous LP solution\n",
            "\t Testing continuous LP solution - export JSON\n",
            "\t Testing continuous LP solution - export solver dict\n",
            "\t Testing continuous LP solution - export solver JSON\n",
            "\t Testing makeDict general behavior\n",
            "\t Testing makeDict default value behavior\n",
            "\t Testing the availability of the function pulpTestAll\n",
            "\t Testing zero subtraction\n",
            "\t Testing inconsistent lp solution\n",
            "\t Testing continuous LP solution\n",
            "\t Testing maximize continuous LP solution\n",
            "\t Testing unbounded continuous LP solution\n",
            "\t Testing Long Names\n",
            "\t Testing repeated Names\n",
            "\t Testing zero constraint\n",
            "\t Testing zero objective\n",
            "\t Testing LpVariable (not LpAffineExpression) objective\n",
            "\t Testing LpAffineExpression divide\n"
          ],
          "name": "stdout"
        },
        {
          "output_type": "stream",
          "text": [
            ".................."
          ],
          "name": "stderr"
        },
        {
          "output_type": "stream",
          "text": [
            "\t Testing MIP solution\n",
            "\t Testing MIP solution with floats in objective\n",
            "\t Testing MIP solution\n",
            "\t Testing MIP solution\n",
            "\t Testing MIP relaxation\n",
            "\t Testing feasibility problem (no objective)\n",
            "\t Testing an infeasible problem\n",
            "\t Testing an integer infeasible problem\n",
            "\t Testing another integer infeasible problem\n",
            "\t Testing column based modelling\n",
            "\t Testing fractional constraints\n",
            "\t Testing elastic constraints (no change)\n",
            "\t Testing elastic constraints (freebound)\n",
            "\t Testing elastic constraints (penalty unchanged)\n"
          ],
          "name": "stdout"
        },
        {
          "output_type": "stream",
          "text": [
            "...."
          ],
          "name": "stderr"
        },
        {
          "output_type": "stream",
          "text": [
            "\t Testing elastic constraints (penalty unbounded)\n",
            "\t Testing invalid status\n",
            "\t Testing continuous LP solution - export dict\n"
          ],
          "name": "stdout"
        },
        {
          "output_type": "stream",
          "text": [
            "."
          ],
          "name": "stderr"
        },
        {
          "output_type": "stream",
          "text": [
            "\t Testing MIP solution\n"
          ],
          "name": "stdout"
        },
        {
          "output_type": "stream",
          "text": [
            "."
          ],
          "name": "stderr"
        },
        {
          "output_type": "stream",
          "text": [
            "\t Testing maximize continuous LP solution\n"
          ],
          "name": "stdout"
        },
        {
          "output_type": "stream",
          "text": [
            "."
          ],
          "name": "stderr"
        },
        {
          "output_type": "stream",
          "text": [
            "\t Testing continuous LP solution - export JSON\n"
          ],
          "name": "stdout"
        },
        {
          "output_type": "stream",
          "text": [
            "."
          ],
          "name": "stderr"
        },
        {
          "output_type": "stream",
          "text": [
            "\t Testing continuous LP solution - export solver dict\n"
          ],
          "name": "stdout"
        },
        {
          "output_type": "stream",
          "text": [
            "."
          ],
          "name": "stderr"
        },
        {
          "output_type": "stream",
          "text": [
            "\t Testing continuous LP solution - export solver JSON\n"
          ],
          "name": "stdout"
        },
        {
          "output_type": "stream",
          "text": [
            "......."
          ],
          "name": "stderr"
        },
        {
          "output_type": "stream",
          "text": [
            "\t Testing makeDict general behavior\n",
            "\t Testing makeDict default value behavior\n",
            "\t Testing the availability of the function pulpTestAll\n",
            "\t Testing zero subtraction\n",
            "\t Testing inconsistent lp solution\n",
            "\t Testing continuous LP solution\n"
          ],
          "name": "stdout"
        },
        {
          "output_type": "stream",
          "text": [
            "."
          ],
          "name": "stderr"
        },
        {
          "output_type": "stream",
          "text": [
            "\t Testing maximize continuous LP solution\n"
          ],
          "name": "stdout"
        },
        {
          "output_type": "stream",
          "text": [
            ".."
          ],
          "name": "stderr"
        },
        {
          "output_type": "stream",
          "text": [
            "\t Testing unbounded continuous LP solution\n",
            "\t Testing Long Names\n"
          ],
          "name": "stdout"
        },
        {
          "output_type": "stream",
          "text": [
            ".."
          ],
          "name": "stderr"
        },
        {
          "output_type": "stream",
          "text": [
            "\t Testing repeated Names\n",
            "\t Testing zero constraint\n"
          ],
          "name": "stdout"
        },
        {
          "output_type": "stream",
          "text": [
            "."
          ],
          "name": "stderr"
        },
        {
          "output_type": "stream",
          "text": [
            "\t Testing zero objective\n"
          ],
          "name": "stdout"
        },
        {
          "output_type": "stream",
          "text": [
            "."
          ],
          "name": "stderr"
        },
        {
          "output_type": "stream",
          "text": [
            "\t Testing LpVariable (not LpAffineExpression) objective\n"
          ],
          "name": "stdout"
        },
        {
          "output_type": "stream",
          "text": [
            ".."
          ],
          "name": "stderr"
        },
        {
          "output_type": "stream",
          "text": [
            "\t Testing LpAffineExpression divide\n"
          ],
          "name": "stdout"
        },
        {
          "output_type": "stream",
          "text": [
            "."
          ],
          "name": "stderr"
        },
        {
          "output_type": "stream",
          "text": [
            "\t Testing MIP solution\n"
          ],
          "name": "stdout"
        },
        {
          "output_type": "stream",
          "text": [
            "."
          ],
          "name": "stderr"
        },
        {
          "output_type": "stream",
          "text": [
            "\t Testing MIP solution with floats in objective\n"
          ],
          "name": "stdout"
        },
        {
          "output_type": "stream",
          "text": [
            "."
          ],
          "name": "stderr"
        },
        {
          "output_type": "stream",
          "text": [
            "\t Testing MIP solution\n"
          ],
          "name": "stdout"
        },
        {
          "output_type": "stream",
          "text": [
            "."
          ],
          "name": "stderr"
        },
        {
          "output_type": "stream",
          "text": [
            "\t Testing MIP solution\n"
          ],
          "name": "stdout"
        },
        {
          "output_type": "stream",
          "text": [
            "./usr/local/lib/python3.6/dist-packages/pulp/apis/choco_api.py:83: UserWarning: CHOCO_CMD cannot solve the relaxation of a problem\n",
            "  warnings.warn(\"CHOCO_CMD cannot solve the relaxation of a problem\")\n"
          ],
          "name": "stderr"
        },
        {
          "output_type": "stream",
          "text": [
            "\t Testing MIP relaxation\n"
          ],
          "name": "stdout"
        },
        {
          "output_type": "stream",
          "text": [
            "."
          ],
          "name": "stderr"
        },
        {
          "output_type": "stream",
          "text": [
            "\t Testing feasibility problem (no objective)\n"
          ],
          "name": "stdout"
        },
        {
          "output_type": "stream",
          "text": [
            "."
          ],
          "name": "stderr"
        },
        {
          "output_type": "stream",
          "text": [
            "\t Testing an infeasible problem\n"
          ],
          "name": "stdout"
        },
        {
          "output_type": "stream",
          "text": [
            "."
          ],
          "name": "stderr"
        },
        {
          "output_type": "stream",
          "text": [
            "\t Testing an integer infeasible problem\n"
          ],
          "name": "stdout"
        },
        {
          "output_type": "stream",
          "text": [
            "."
          ],
          "name": "stderr"
        },
        {
          "output_type": "stream",
          "text": [
            "\t Testing another integer infeasible problem\n"
          ],
          "name": "stdout"
        },
        {
          "output_type": "stream",
          "text": [
            "."
          ],
          "name": "stderr"
        },
        {
          "output_type": "stream",
          "text": [
            "\t Testing column based modelling\n"
          ],
          "name": "stdout"
        },
        {
          "output_type": "stream",
          "text": [
            "....."
          ],
          "name": "stderr"
        },
        {
          "output_type": "stream",
          "text": [
            "\t Testing fractional constraints\n"
          ],
          "name": "stdout"
        },
        {
          "output_type": "stream",
          "text": [
            "."
          ],
          "name": "stderr"
        },
        {
          "output_type": "stream",
          "text": [
            "\t Testing elastic constraints (no change)\n"
          ],
          "name": "stdout"
        },
        {
          "output_type": "stream",
          "text": [
            "."
          ],
          "name": "stderr"
        },
        {
          "output_type": "stream",
          "text": [
            "\t Testing elastic constraints (freebound)\n"
          ],
          "name": "stdout"
        },
        {
          "output_type": "stream",
          "text": [
            "."
          ],
          "name": "stderr"
        },
        {
          "output_type": "stream",
          "text": [
            "\t Testing elastic constraints (penalty unchanged)\n"
          ],
          "name": "stdout"
        },
        {
          "output_type": "stream",
          "text": [
            "..............."
          ],
          "name": "stderr"
        },
        {
          "output_type": "stream",
          "text": [
            "\t Testing elastic constraints (penalty unbounded)\n"
          ],
          "name": "stdout"
        },
        {
          "output_type": "stream",
          "text": [
            ".........................."
          ],
          "name": "stderr"
        },
        {
          "output_type": "stream",
          "text": [
            "{'a': 53.0, 'b': 45.3, 'c': 459.2}\n"
          ],
          "name": "stdout"
        },
        {
          "output_type": "stream",
          "text": [
            ".....\n",
            "----------------------------------------------------------------------\n",
            "Ran 215 tests in 38.162s\n",
            "\n",
            "OK\n"
          ],
          "name": "stderr"
        }
      ]
    },
    {
      "cell_type": "markdown",
      "metadata": {
        "id": "JHP3Y3Yh-stH"
      },
      "source": [
        "# Zadania:\n",
        "\n",
        "1. przeczytaj materiały dotyczące pulp ze strony internetowej https://coin-or.github.io/pulp/main/index.html oraz przejdź przez blending problem (przepisz do swojego notebooka)\n",
        "\n",
        "2. w blending problem dodaj zmienną decyzyjną. Stwórz zmienną która pojawi się w końcowym składzie produktu (tj. wartość zmiennej będzie miała niezerową postać)\n",
        "\n",
        "3. Dodaj ograniczenie co do zawartości witaminy B \n",
        "\n",
        "Zawartość:\n",
        "\n",
        "| Nazwa      | zawartość ug/100g |\n",
        "|------------|-------------------|\n",
        "| chicken    | 0.3               |\n",
        "| beef       | 2.6               |\n",
        "| mutton     | 2.6               |\n",
        "| rice       | 0                 |\n",
        "| wheat bran | 0                 |\n",
        "| gel        | 0                 |\n",
        "| sardines   | 8.9               |\n",
        "\n",
        "Kot ma zjeść minimum 0.24 ug na kilogram masy więc około\n",
        "0.8 ug dziennie\n",
        "\n",
        "4. Na końcu ma pojawiać się zdanie podsumowujące wynik, w stylu:\n",
        "Końcowy produkt będzie kosztować {}, będzie miał w składzie {nazwa}: {} %, {nastepna nazwa}: {} %\n",
        "\n",
        "Takie zdanie można skleić z części generowanych automatycznie:\n",
        "\n"
      ]
    },
    {
      "cell_type": "code",
      "metadata": {
        "id": "DsQFXFArP-wi",
        "outputId": "62553d7b-6055-4ec1-ff27-a1f28f48b1ca",
        "colab": {
          "base_uri": "https://localhost:8080/",
          "height": 204
        }
      },
      "source": [
        "\"\"\"\n",
        "The Full Whiskas Model Python Formulation for the PuLP Modeller\n",
        "\n",
        "Authors: Antony Phillips, Dr Stuart Mitchell  2007\n",
        "\"\"\"\n",
        "\n",
        "# Import PuLP modeler functions\n",
        "from pulp import *\n",
        "\n",
        "# Creates a list of the Ingredients\n",
        "Ingredients = ['CHICKEN', 'BEEF', 'MUTTON', 'RICE', 'WHEAT', 'GEL', 'SARDINES']\n",
        "\n",
        "# A dictionary of the costs of each of the Ingredients is created\n",
        "costs = {'CHICKEN': 0.013, \n",
        "         'BEEF': 0.008, \n",
        "         'MUTTON': 0.010, \n",
        "         'RICE': 0.002, \n",
        "         'WHEAT': 0.005, \n",
        "         'GEL': 0.001,\n",
        "         'SARDINES': 0.002}\n",
        "\n",
        "# A dictionary of the protein percent in each of the Ingredients is created\n",
        "proteinPercent = {'CHICKEN': 0.100, \n",
        "                  'BEEF': 0.200, \n",
        "                  'MUTTON': 0.150, \n",
        "                  'RICE': 0.000, \n",
        "                  'WHEAT': 0.040, \n",
        "                  'GEL': 0.000,\n",
        "                  'SARDINES': 0.25}\n",
        "\n",
        "# A dictionary of the fat percent in each of the Ingredients is created\n",
        "fatPercent = {'CHICKEN': 0.080, \n",
        "              'BEEF': 0.100, \n",
        "              'MUTTON': 0.110, \n",
        "              'RICE': 0.010, \n",
        "              'WHEAT': 0.010, \n",
        "              'GEL': 0.000,\n",
        "              'SARDINES': 0.15}\n",
        "\n",
        "# A dictionary of the fibre percent in each of the Ingredients is created\n",
        "fibrePercent = {'CHICKEN': 0.001, \n",
        "                'BEEF': 0.005, \n",
        "                'MUTTON': 0.003, \n",
        "                'RICE': 0.100, \n",
        "                'WHEAT': 0.150, \n",
        "                'GEL': 0.000,\n",
        "                'SARDINES': 0.007}\n",
        "\n",
        "# A dictionary of the salt percent in each of the Ingredients is created\n",
        "saltPercent = {'CHICKEN': 0.002, \n",
        "               'BEEF': 0.005, \n",
        "               'MUTTON': 0.007, \n",
        "               'RICE': 0.002, \n",
        "               'WHEAT': 0.008, \n",
        "               'GEL': 0.000,\n",
        "               'SARDINES': 0.002}\n",
        "\n",
        "# A dictionary of the vitamin B percent in each of the Ingredients is created\n",
        "vitaminPercent = {'CHICKEN': 0.003, \n",
        "               'BEEF': 0.026, \n",
        "               'MUTTON': 0.026, \n",
        "               'RICE': 0.0, \n",
        "               'WHEAT': 0.0, \n",
        "               'GEL': 0.0,\n",
        "               'SARDINES': 0.089}\n",
        "\n",
        "# Create the 'prob' variable to contain the problem data\n",
        "prob = LpProblem(\"The Whiskas Problem 1\", LpMinimize)\n",
        "\n",
        "# A dictionary called 'ingredient_vars' is created to contain the referenced Variables\n",
        "ingredient_vars = LpVariable.dicts(\"\",Ingredients)\n",
        "\n",
        "# The objective function is added to 'prob' first\n",
        "prob += lpSum([costs[i]*ingredient_vars[i] for i in Ingredients]), \"Total Cost of Ingredients per can\"\n",
        "\n",
        "# The five constraints are added to 'prob'\n",
        "prob += lpSum([ingredient_vars[i] for i in Ingredients]) == 100, \"PercentagesSum\"\n",
        "prob += lpSum([proteinPercent[i] * ingredient_vars[i] for i in Ingredients]) >= 8.0, \"ProteinRequirement\"\n",
        "prob += lpSum([fatPercent[i] * ingredient_vars[i] for i in Ingredients]) >= 6.0, \"FatRequirement\"\n",
        "prob += lpSum([fibrePercent[i] * ingredient_vars[i] for i in Ingredients]) <= 2.0, \"FibreRequirement\"\n",
        "prob += lpSum([saltPercent[i] * ingredient_vars[i] for i in Ingredients]) <= 0.4, \"SaltRequirement\"\n",
        "prob += lpSum([vitaminPercent[i] * ingredient_vars[i] for i in Ingredients]) <= 0.4, \"VitaminRequirement\"\n",
        "\n",
        "# The problem data is written to an .lp file\n",
        "prob.writeLP(\"WhiskasModel2.lp\")\n",
        "\n",
        "# The problem is solved using PuLP's choice of Solver\n",
        "prob.solve()\n",
        "\n",
        "# The status of the solution is printed to the screen\n",
        "#print (\"Status:\", LpStatus[prob.status])\n",
        "\n",
        "\n",
        "\n",
        "# The optimised objective function value is printed to the screen    \n",
        "print (\"Końcowy produkt będzie kosztować = \", value(prob.objective))\n",
        "print(\"Będzie zawierał:\")\n",
        "# Each of the variables is printed with it's resolved optimum value\n",
        "for v in prob.variables():\n",
        "    print (v.name, \"=\", v.varValue, \"%\")"
      ],
      "execution_count": 9,
      "outputs": [
        {
          "output_type": "stream",
          "text": [
            "Końcowy produkt będzie kosztować =  0.842417517\n",
            "Będzie zawierał:\n",
            "_BEEF = 12.847418 %\n",
            "_CHICKEN = 24.63572 %\n",
            "_GEL = 16.367135 %\n",
            "_MUTTON = 38.838403 %\n",
            "_RICE = 18.746588 %\n",
            "_SARDINES = -11.435264 %\n",
            "_WHEAT = 0.0 %\n"
          ],
          "name": "stdout"
        },
        {
          "output_type": "stream",
          "text": [
            "/usr/local/lib/python3.6/dist-packages/pulp/pulp.py:1198: UserWarning: Spaces are not permitted in the name. Converted to '_'\n",
            "  warnings.warn(\"Spaces are not permitted in the name. Converted to '_'\")\n"
          ],
          "name": "stderr"
        }
      ]
    },
    {
      "cell_type": "code",
      "metadata": {
        "id": "BhWf9b8IMJZ7",
        "outputId": "d00e90f2-d616-4020-d5cd-94cf22cf072e",
        "colab": {
          "base_uri": "https://localhost:8080/",
          "height": 51
        }
      },
      "source": [
        "sklejone_produkt_cena = [\":\".join((produkt, str(cena))) for produkt,cena in zip([\"jabłko\",\"banan\"],[5,10])]\n",
        "print(sklejone_produkt_cena)\n",
        "sklejona_calosc = \", \".join(sklejone_produkt_cena)\n",
        "\n",
        "print(sklejona_calosc)"
      ],
      "execution_count": null,
      "outputs": [
        {
          "output_type": "stream",
          "text": [
            "['jabłko:5', 'banan:10']\n",
            "jabłko:5, banan:10\n"
          ],
          "name": "stdout"
        }
      ]
    },
    {
      "cell_type": "code",
      "metadata": {
        "id": "Se_t7o8bTLdW"
      },
      "source": [
        ""
      ],
      "execution_count": null,
      "outputs": []
    }
  ]
}